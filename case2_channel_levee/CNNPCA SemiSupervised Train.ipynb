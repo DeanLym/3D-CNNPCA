{
 "cells": [
  {
   "cell_type": "code",
   "execution_count": 1,
   "metadata": {},
   "outputs": [],
   "source": [
    "%load_ext autoreload\n",
    "%autoreload 2"
   ]
  },
  {
   "cell_type": "code",
   "execution_count": 2,
   "metadata": {},
   "outputs": [],
   "source": [
    "import os\n",
    "os.environ['CUDA_VISIBLE_DEVICES'] = '1'"
   ]
  },
  {
   "cell_type": "code",
   "execution_count": 3,
   "metadata": {},
   "outputs": [
    {
     "data": {
      "text/plain": [
       "<Figure size 432x288 with 0 Axes>"
      ]
     },
     "metadata": {},
     "output_type": "display_data"
    }
   ],
   "source": [
    "# Import standard modules\n",
    "import numpy as np\n",
    "import h5py\n",
    "import matplotlib.pyplot as plt\n",
    "plt.set_cmap('jet')\n",
    "import os\n",
    "import pickle"
   ]
  },
  {
   "cell_type": "code",
   "execution_count": 4,
   "metadata": {},
   "outputs": [],
   "source": [
    "# Import torch modules\n",
    "import torch\n",
    "from torch import FloatTensor, cat, from_numpy\n",
    "from torch.autograd import Variable\n",
    "from torch.optim import Adam\n",
    "from torchsummary import summary"
   ]
  },
  {
   "cell_type": "code",
   "execution_count": 5,
   "metadata": {},
   "outputs": [],
   "source": [
    "import sys\n",
    "sys.path.append('/data3/Astro/personal/yiminliu/cnnpca3d/')"
   ]
  },
  {
   "cell_type": "code",
   "execution_count": 6,
   "metadata": {},
   "outputs": [],
   "source": [
    "# Import transform net\n",
    "from transformer_net import TransformerNet"
   ]
  },
  {
   "cell_type": "code",
   "execution_count": 7,
   "metadata": {},
   "outputs": [],
   "source": [
    "# Import utils function\n",
    "from utils import dot_dict, load_model, parse_content_style_size, gram_matrix"
   ]
  },
  {
   "cell_type": "code",
   "execution_count": 8,
   "metadata": {},
   "outputs": [],
   "source": [
    "# Import C3D model\n",
    "from C3D_model import C3D, load_c3d_weights"
   ]
  },
  {
   "cell_type": "markdown",
   "metadata": {},
   "source": [
    "#### 1. Specify options"
   ]
  },
  {
   "cell_type": "code",
   "execution_count": 9,
   "metadata": {},
   "outputs": [],
   "source": [
    "device = 'cuda'"
   ]
  },
  {
   "cell_type": "code",
   "execution_count": 10,
   "metadata": {},
   "outputs": [],
   "source": [
    "data_dir = '/data3/Astro/personal/yiminliu/models/3d_levee_wide_60x60x40_cond6w/'"
   ]
  },
  {
   "cell_type": "code",
   "execution_count": 11,
   "metadata": {},
   "outputs": [],
   "source": [
    "args = {}\n",
    "args['content_size'] = '40, 60, 60'\n",
    "args['style_size'] = '40, 60, 60'\n",
    "args['pca_model'] = os.path.join(data_dir, 'mpca_train3000_levee_wider_wellsonly_60x60x40_cond6w_l800.h5')\n",
    "args['petrel_model'] = os.path.join(data_dir, 'facies_train3000_60x60x40_levee_wider_wellonlys_cond6w.h5')\n",
    "args['rec_model'] = os.path.join(data_dir, 'mpca_rec3000_60x60x40_levee_wide_cond6w_l800_ptb70_std1.h5')\n",
    "args['style_weight'] = 50.0\n",
    "args['rec_weight'] = 500.0\n",
    "args['epochs'] = 10\n",
    "args['save_model'] = './saved_models/cnnpca_levee_wider_wellsonly_60x60x40_cond6w_l800_ptb70'\n",
    "args['log_interval'] = 10\n",
    "args['batch_size'] = 8\n",
    "args['hd_file'] = os.path.join(data_dir, 'well_hd_wider_wellsonly.pickle')\n",
    "args['hd_weight'] = 10.0\n",
    "args['c3d_model'] = '/data3/Astro/personal/yiminliu/cnnpca3d/c3d.pickle'\n",
    "args = dot_dict(args)"
   ]
  },
  {
   "cell_type": "markdown",
   "metadata": {},
   "source": [
    "#### 2. Load data"
   ]
  },
  {
   "cell_type": "code",
   "execution_count": 12,
   "metadata": {},
   "outputs": [
    {
     "name": "stdout",
     "output_type": "stream",
     "text": [
      "content size: [40, 60, 60]\n",
      "style size: [40, 60, 60]\n"
     ]
    }
   ],
   "source": [
    "args = parse_content_style_size(args)\n",
    "content_size = args.content_size\n",
    "style_size = args.style_size\n",
    "print('content size:', content_size)\n",
    "print('style size:', style_size)"
   ]
  },
  {
   "cell_type": "code",
   "execution_count": 13,
   "metadata": {},
   "outputs": [
    {
     "name": "stdout",
     "output_type": "stream",
     "text": [
      "5.1328125 -3.7636719\n"
     ]
    },
    {
     "data": {
      "text/plain": [
       "(3000, 1, 40, 60, 60)"
      ]
     },
     "execution_count": 13,
     "metadata": {},
     "output_type": "execute_result"
    }
   ],
   "source": [
    "# Load content model\n",
    "m_pca =load_model(args.pca_model).astype(np.float32)\n",
    "print(m_pca.max(), m_pca.min())\n",
    "num_model = m_pca.shape[0]\n",
    "m_pca = m_pca.reshape((num_model,1) + tuple(content_size))\n",
    "m_pca.shape"
   ]
  },
  {
   "cell_type": "code",
   "execution_count": 14,
   "metadata": {},
   "outputs": [
    {
     "data": {
      "text/plain": [
       "(3000, 1, 40, 60, 60)"
      ]
     },
     "execution_count": 14,
     "metadata": {},
     "output_type": "execute_result"
    }
   ],
   "source": [
    "# Load petrel generated data\n",
    "fid = h5py.File(args.petrel_model, 'r')\n",
    "m_cond = np.array(fid['data'])\n",
    "fid.close()\n",
    "m_cond = m_cond.transpose((0, -1, 1,2,3))\n",
    "m_cond.shape"
   ]
  },
  {
   "cell_type": "code",
   "execution_count": 15,
   "metadata": {},
   "outputs": [
    {
     "data": {
      "text/plain": [
       "(3000, 1, 40, 60, 60)"
      ]
     },
     "execution_count": 15,
     "metadata": {},
     "output_type": "execute_result"
    }
   ],
   "source": [
    "fid = h5py.File(args.rec_model, 'r')\n",
    "m_rec = np.array(fid['data'])\n",
    "fid.close()\n",
    "m_rec = m_rec.transpose((0, -1, 1,2,3))\n",
    "m_rec.shape"
   ]
  },
  {
   "cell_type": "code",
   "execution_count": 16,
   "metadata": {},
   "outputs": [
    {
     "name": "stdout",
     "output_type": "stream",
     "text": [
      "5.48 -3.045\n"
     ]
    }
   ],
   "source": [
    "print(m_rec.max(), m_rec.min())"
   ]
  },
  {
   "cell_type": "code",
   "execution_count": 17,
   "metadata": {},
   "outputs": [
    {
     "name": "stdout",
     "output_type": "stream",
     "text": [
      "2 0\n"
     ]
    }
   ],
   "source": [
    "print(m_cond.max(), m_cond.min())"
   ]
  },
  {
   "cell_type": "code",
   "execution_count": 18,
   "metadata": {},
   "outputs": [
    {
     "data": {
      "image/png": "[encoded data removed]",
      "text/plain": [
       "<Figure size 432x288 with 4 Axes>"
      ]
     },
     "metadata": {
      "needs_background": "light"
     },
     "output_type": "display_data"
    },
    {
     "data": {
      "image/png": "[encoded data removed]",
      "text/plain": [
       "<Figure size 432x288 with 4 Axes>"
      ]
     },
     "metadata": {
      "needs_background": "light"
     },
     "output_type": "display_data"
    }
   ],
   "source": [
    "for k in range(2):\n",
    "    plt.subplot(1,2,1)\n",
    "    plt.imshow(m_pca[k, 0, 0, :, :])\n",
    "    plt.colorbar(fraction=0.046)\n",
    "    plt.subplot(1,2,2)\n",
    "    plt.imshow(m_pca[k, 0, :, :, 0])\n",
    "    plt.colorbar(fraction=0.046)\n",
    "    plt.show()"
   ]
  },
  {
   "cell_type": "code",
   "execution_count": 19,
   "metadata": {},
   "outputs": [
    {
     "data": {
      "image/png": "[encoded data removed]",
      "text/plain": [
       "<Figure size 432x288 with 4 Axes>"
      ]
     },
     "metadata": {
      "needs_background": "light"
     },
     "output_type": "display_data"
    },
    {
     "data": {
      "image/png": "[encoded data removed]",
      "text/plain": [
       "<Figure size 432x288 with 4 Axes>"
      ]
     },
     "metadata": {
      "needs_background": "light"
     },
     "output_type": "display_data"
    }
   ],
   "source": [
    "for k in range(2):\n",
    "    plt.subplot(1,2,1)\n",
    "    plt.imshow(m_cond[k, 0, 0, :, :])\n",
    "    plt.colorbar(fraction=0.046)\n",
    "    plt.subplot(1,2,2)\n",
    "    plt.imshow(m_cond[k, 0, :, :, 0])\n",
    "    plt.colorbar(fraction=0.046)\n",
    "    plt.show()"
   ]
  },
  {
   "cell_type": "code",
   "execution_count": 20,
   "metadata": {},
   "outputs": [
    {
     "name": "stdout",
     "output_type": "stream",
     "text": [
      "654.4336 -479.86816\n"
     ]
    }
   ],
   "source": [
    "# Normalize data\n",
    "max_, min_ = 2., 0.\n",
    "m_pca = (m_pca - min_) / (max_ - min_) * 255.\n",
    "print(m_pca.max(), m_pca.min())"
   ]
  },
  {
   "cell_type": "code",
   "execution_count": 21,
   "metadata": {},
   "outputs": [
    {
     "name": "stdout",
     "output_type": "stream",
     "text": [
      "255.0 0.0\n"
     ]
    }
   ],
   "source": [
    "m_cond = ((m_cond - min_) / (max_ - min_)) * 255.\n",
    "print(m_cond.max(), m_cond.min())"
   ]
  },
  {
   "cell_type": "code",
   "execution_count": 22,
   "metadata": {},
   "outputs": [
    {
     "name": "stdout",
     "output_type": "stream",
     "text": [
      "699.0 -388.2\n"
     ]
    }
   ],
   "source": [
    "m_rec = ((m_rec - min_) / (max_ - min_)) * 255.\n",
    "print(m_rec.max(), m_rec.min())"
   ]
  },
  {
   "cell_type": "code",
   "execution_count": 23,
   "metadata": {},
   "outputs": [
    {
     "name": "stdout",
     "output_type": "stream",
     "text": [
      "Total number of hard data: 240\n"
     ]
    }
   ],
   "source": [
    "# Load hard data\n",
    "with open(args.hd_file, 'rb') as fid:\n",
    "    well_hd = pickle.load(fid)\n",
    "# Normalize well_hd\n",
    "for wn in well_hd:\n",
    "    well_hd[wn][:, -1] = (well_hd[wn][:,-1] - min_) / (max_ - min_) * 255.\n",
    "# Assemble hard data into one single np.array\n",
    "well_hd_all = np.concatenate(list(well_hd.values()), axis=0)\n",
    "print('Total number of hard data:', well_hd_all.shape[0])"
   ]
  },
  {
   "cell_type": "markdown",
   "metadata": {},
   "source": [
    "#### 3. Construct C3D Net"
   ]
  },
  {
   "cell_type": "code",
   "execution_count": 24,
   "metadata": {},
   "outputs": [
    {
     "data": {
      "text/plain": [
       "C3D(\n",
       "  (conv1): Conv3d(3, 64, kernel_size=(3, 3, 3), stride=(1, 1, 1), padding=(1, 1, 1))\n",
       "  (pool1): MaxPool3d(kernel_size=(1, 2, 2), stride=(1, 2, 2), padding=0, dilation=1, ceil_mode=False)\n",
       "  (conv2): Conv3d(64, 128, kernel_size=(3, 3, 3), stride=(1, 1, 1), padding=(1, 1, 1))\n",
       "  (pool2): MaxPool3d(kernel_size=(2, 2, 2), stride=(2, 2, 2), padding=0, dilation=1, ceil_mode=False)\n",
       "  (conv3a): Conv3d(128, 256, kernel_size=(3, 3, 3), stride=(1, 1, 1), padding=(1, 1, 1))\n",
       "  (conv3b): Conv3d(256, 256, kernel_size=(3, 3, 3), stride=(1, 1, 1), padding=(1, 1, 1))\n",
       "  (pool3): MaxPool3d(kernel_size=(2, 2, 2), stride=(2, 2, 2), padding=0, dilation=1, ceil_mode=False)\n",
       "  (conv4a): Conv3d(256, 512, kernel_size=(3, 3, 3), stride=(1, 1, 1), padding=(1, 1, 1))\n",
       "  (conv4b): Conv3d(512, 512, kernel_size=(3, 3, 3), stride=(1, 1, 1), padding=(1, 1, 1))\n",
       "  (pool4): MaxPool3d(kernel_size=(2, 2, 2), stride=(2, 2, 2), padding=0, dilation=1, ceil_mode=False)\n",
       "  (relu): ReLU()\n",
       "  (softmax): Softmax(dim=None)\n",
       ")"
      ]
     },
     "execution_count": 24,
     "metadata": {},
     "output_type": "execute_result"
    }
   ],
   "source": [
    "c3d = C3D()\n",
    "c3d.load_state_dict(load_c3d_weights(c3d, args.c3d_model))\n",
    "c3d = c3d.to(device)\n",
    "c3d.eval()"
   ]
  },
  {
   "cell_type": "markdown",
   "metadata": {},
   "source": [
    "#### 4. Construct Transform Net"
   ]
  },
  {
   "cell_type": "code",
   "execution_count": 25,
   "metadata": {},
   "outputs": [
    {
     "name": "stdout",
     "output_type": "stream",
     "text": [
      "----------------------------------------------------------------\n",
      "        Layer (type)               Output Shape         Param #\n",
      "================================================================\n",
      "      CirularPad3d-1        [-1, 1, 42, 68, 68]               0\n",
      "            Conv3d-2       [-1, 32, 40, 60, 60]           7,808\n",
      "         ConvLayer-3       [-1, 32, 40, 60, 60]               0\n",
      "       BatchNorm3d-4       [-1, 32, 40, 60, 60]              64\n",
      "              ReLU-5       [-1, 32, 40, 60, 60]               0\n",
      "      CirularPad3d-6       [-1, 32, 42, 62, 62]               0\n",
      "            Conv3d-7       [-1, 64, 20, 30, 30]          55,360\n",
      "         ConvLayer-8       [-1, 64, 20, 30, 30]               0\n",
      "       BatchNorm3d-9       [-1, 64, 20, 30, 30]             128\n",
      "             ReLU-10       [-1, 64, 20, 30, 30]               0\n",
      "     CirularPad3d-11       [-1, 64, 22, 32, 32]               0\n",
      "           Conv3d-12      [-1, 128, 20, 15, 15]         221,312\n",
      "        ConvLayer-13      [-1, 128, 20, 15, 15]               0\n",
      "      BatchNorm3d-14      [-1, 128, 20, 15, 15]             256\n",
      "             ReLU-15      [-1, 128, 20, 15, 15]               0\n",
      "     CirularPad3d-16      [-1, 128, 22, 17, 17]               0\n",
      "           Conv3d-17      [-1, 128, 20, 15, 15]         442,496\n",
      "        ConvLayer-18      [-1, 128, 20, 15, 15]               0\n",
      "      BatchNorm3d-19      [-1, 128, 20, 15, 15]             256\n",
      "             ReLU-20      [-1, 128, 20, 15, 15]               0\n",
      "     CirularPad3d-21      [-1, 128, 22, 17, 17]               0\n",
      "           Conv3d-22      [-1, 128, 20, 15, 15]         442,496\n",
      "        ConvLayer-23      [-1, 128, 20, 15, 15]               0\n",
      "      BatchNorm3d-24      [-1, 128, 20, 15, 15]             256\n",
      "    ResidualBlock-25      [-1, 128, 20, 15, 15]               0\n",
      "     CirularPad3d-26      [-1, 128, 22, 17, 17]               0\n",
      "           Conv3d-27      [-1, 128, 20, 15, 15]         442,496\n",
      "        ConvLayer-28      [-1, 128, 20, 15, 15]               0\n",
      "      BatchNorm3d-29      [-1, 128, 20, 15, 15]             256\n",
      "             ReLU-30      [-1, 128, 20, 15, 15]               0\n",
      "     CirularPad3d-31      [-1, 128, 22, 17, 17]               0\n",
      "           Conv3d-32      [-1, 128, 20, 15, 15]         442,496\n",
      "        ConvLayer-33      [-1, 128, 20, 15, 15]               0\n",
      "      BatchNorm3d-34      [-1, 128, 20, 15, 15]             256\n",
      "    ResidualBlock-35      [-1, 128, 20, 15, 15]               0\n",
      "     CirularPad3d-36      [-1, 128, 22, 17, 17]               0\n",
      "           Conv3d-37      [-1, 128, 20, 15, 15]         442,496\n",
      "        ConvLayer-38      [-1, 128, 20, 15, 15]               0\n",
      "      BatchNorm3d-39      [-1, 128, 20, 15, 15]             256\n",
      "             ReLU-40      [-1, 128, 20, 15, 15]               0\n",
      "     CirularPad3d-41      [-1, 128, 22, 17, 17]               0\n",
      "           Conv3d-42      [-1, 128, 20, 15, 15]         442,496\n",
      "        ConvLayer-43      [-1, 128, 20, 15, 15]               0\n",
      "      BatchNorm3d-44      [-1, 128, 20, 15, 15]             256\n",
      "    ResidualBlock-45      [-1, 128, 20, 15, 15]               0\n",
      "     CirularPad3d-46      [-1, 128, 22, 17, 17]               0\n",
      "           Conv3d-47      [-1, 128, 20, 15, 15]         442,496\n",
      "        ConvLayer-48      [-1, 128, 20, 15, 15]               0\n",
      "      BatchNorm3d-49      [-1, 128, 20, 15, 15]             256\n",
      "             ReLU-50      [-1, 128, 20, 15, 15]               0\n",
      "     CirularPad3d-51      [-1, 128, 22, 17, 17]               0\n",
      "           Conv3d-52      [-1, 128, 20, 15, 15]         442,496\n",
      "        ConvLayer-53      [-1, 128, 20, 15, 15]               0\n",
      "      BatchNorm3d-54      [-1, 128, 20, 15, 15]             256\n",
      "    ResidualBlock-55      [-1, 128, 20, 15, 15]               0\n",
      "     CirularPad3d-56      [-1, 128, 22, 17, 17]               0\n",
      "           Conv3d-57      [-1, 128, 20, 15, 15]         442,496\n",
      "        ConvLayer-58      [-1, 128, 20, 15, 15]               0\n",
      "      BatchNorm3d-59      [-1, 128, 20, 15, 15]             256\n",
      "             ReLU-60      [-1, 128, 20, 15, 15]               0\n",
      "     CirularPad3d-61      [-1, 128, 22, 17, 17]               0\n",
      "           Conv3d-62      [-1, 128, 20, 15, 15]         442,496\n",
      "        ConvLayer-63      [-1, 128, 20, 15, 15]               0\n",
      "      BatchNorm3d-64      [-1, 128, 20, 15, 15]             256\n",
      "    ResidualBlock-65      [-1, 128, 20, 15, 15]               0\n",
      "         Upsample-66      [-1, 128, 20, 30, 30]               0\n",
      "     CirularPad3d-67      [-1, 128, 22, 32, 32]               0\n",
      "           Conv3d-68       [-1, 64, 20, 30, 30]         221,248\n",
      "UpsampleConvLayer-69       [-1, 64, 20, 30, 30]               0\n",
      "      BatchNorm3d-70       [-1, 64, 20, 30, 30]             128\n",
      "             ReLU-71       [-1, 64, 20, 30, 30]               0\n",
      "         Upsample-72       [-1, 64, 40, 60, 60]               0\n",
      "     CirularPad3d-73       [-1, 64, 42, 62, 62]               0\n",
      "           Conv3d-74       [-1, 32, 40, 60, 60]          55,328\n",
      "UpsampleConvLayer-75       [-1, 32, 40, 60, 60]               0\n",
      "      BatchNorm3d-76       [-1, 32, 40, 60, 60]              64\n",
      "             ReLU-77       [-1, 32, 40, 60, 60]               0\n",
      "     CirularPad3d-78       [-1, 32, 42, 68, 68]               0\n",
      "           Conv3d-79        [-1, 1, 40, 60, 60]           7,777\n",
      "        ConvLayer-80        [-1, 1, 40, 60, 60]               0\n",
      "================================================================\n",
      "Total params: 4,996,993\n",
      "Trainable params: 4,996,993\n",
      "Non-trainable params: 0\n",
      "----------------------------------------------------------------\n",
      "Input size (MB): 0.55\n",
      "Forward/backward pass size (MB): 897.24\n",
      "Params size (MB): 19.06\n",
      "Estimated Total Size (MB): 916.85\n",
      "----------------------------------------------------------------\n"
     ]
    }
   ],
   "source": [
    "transformer = TransformerNet()\n",
    "transformer = transformer.to(device)\n",
    "summary(transformer, input_size=(1, 40, 60, 60))"
   ]
  },
  {
   "cell_type": "markdown",
   "metadata": {},
   "source": [
    "#### 6. Training"
   ]
  },
  {
   "cell_type": "code",
   "execution_count": 26,
   "metadata": {},
   "outputs": [],
   "source": [
    "optimizer = Adam(transformer.parameters())\n",
    "mse_loss = torch.nn.MSELoss()\n",
    "mae_loss = torch.nn.L1Loss()"
   ]
  },
  {
   "cell_type": "code",
   "execution_count": 27,
   "metadata": {},
   "outputs": [
    {
     "data": {
      "text/plain": [
       "375"
      ]
     },
     "execution_count": 27,
     "metadata": {},
     "output_type": "execute_result"
    }
   ],
   "source": [
    "num_batch = num_model // args.batch_size if num_model % args.batch_size == 0 else num_model // args.batch_size + 1\n",
    "num_batch"
   ]
  },
  {
   "cell_type": "code",
   "execution_count": 28,
   "metadata": {},
   "outputs": [],
   "source": [
    "def compute_hd_loss(y_pred, well_hd_all):\n",
    "    ix = list(well_hd_all[:,0].astype('int'))\n",
    "    iy = list(well_hd_all[:,1].astype('int'))\n",
    "    iz = list(well_hd_all[:,2].astype('int'))\n",
    "    v = Variable(torch.from_numpy(well_hd_all[:, -1]).float()).to(device)\n",
    "    hd_loss = mae_loss(y_pred[:,0,iz,iy,ix], v)\n",
    "    return hd_loss"
   ]
  },
  {
   "cell_type": "code",
   "execution_count": 29,
   "metadata": {},
   "outputs": [
    {
     "name": "stderr",
     "output_type": "stream",
     "text": [
      "/data3/Astro/global/miniconda3/envs/pth-1.4/lib/python3.7/site-packages/torch/nn/modules/loss.py:88: UserWarning: Using a target size (torch.Size([240])) that is different to the input size (torch.Size([8, 240])). This will likely lead to incorrect results due to broadcasting. Please ensure they have the same size.\n",
      "  return F.l1_loss(input, target, reduction=self.reduction)\n"
     ]
    },
    {
     "name": "stdout",
     "output_type": "stream",
     "text": [
      "Epoch1, Batch 1/375, Rec Loss 12268.5322265625, Style Loss 1032.1495361328125, Hd Loss 640.4630126953125\n",
      "Epoch1, Batch 11/375, Rec Loss 12097.0361328125, Style Loss 1063.8199462890625, Hd Loss 575.3210144042969\n",
      "Epoch1, Batch 21/375, Rec Loss 9626.6884765625, Style Loss 990.73291015625, Hd Loss 424.8486022949219\n",
      "Epoch1, Batch 31/375, Rec Loss 9057.5546875, Style Loss 970.4661254882812, Hd Loss 385.4198455810547\n",
      "Epoch1, Batch 41/375, Rec Loss 8739.87890625, Style Loss 995.1759033203125, Hd Loss 350.4622039794922\n",
      "Epoch1, Batch 51/375, Rec Loss 8753.6416015625, Style Loss 1009.0568237304688, Hd Loss 328.1783752441406\n",
      "Epoch1, Batch 61/375, Rec Loss 8507.267578125, Style Loss 997.8699951171875, Hd Loss 321.5499572753906\n",
      "Epoch1, Batch 71/375, Rec Loss 8184.47216796875, Style Loss 1006.7682495117188, Hd Loss 296.4498748779297\n",
      "Epoch1, Batch 81/375, Rec Loss 7564.86669921875, Style Loss 963.6823120117188, Hd Loss 278.6641540527344\n",
      "Epoch1, Batch 91/375, Rec Loss 7520.1044921875, Style Loss 956.6070556640625, Hd Loss 272.2865295410156\n",
      "Epoch1, Batch 101/375, Rec Loss 7319.1630859375, Style Loss 911.99755859375, Hd Loss 259.3074493408203\n",
      "Epoch1, Batch 111/375, Rec Loss 6958.86181640625, Style Loss 898.9158935546875, Hd Loss 236.5415496826172\n",
      "Epoch1, Batch 121/375, Rec Loss 6607.6494140625, Style Loss 835.9404907226562, Hd Loss 221.077392578125\n",
      "Epoch1, Batch 131/375, Rec Loss 6529.27001953125, Style Loss 818.037109375, Hd Loss 227.76557159423828\n",
      "Epoch1, Batch 141/375, Rec Loss 6190.2421875, Style Loss 801.6939697265625, Hd Loss 206.90194702148438\n",
      "Epoch1, Batch 151/375, Rec Loss 6069.228515625, Style Loss 750.1464233398438, Hd Loss 199.11328887939453\n",
      "Epoch1, Batch 161/375, Rec Loss 5653.94384765625, Style Loss 705.4432373046875, Hd Loss 199.44396209716797\n",
      "Epoch1, Batch 171/375, Rec Loss 5917.8603515625, Style Loss 762.7786865234375, Hd Loss 202.39049530029297\n",
      "Epoch1, Batch 181/375, Rec Loss 5886.734375, Style Loss 747.8109741210938, Hd Loss 195.57610321044922\n",
      "Epoch1, Batch 191/375, Rec Loss 5696.1806640625, Style Loss 704.6054077148438, Hd Loss 188.99224853515625\n",
      "Epoch1, Batch 201/375, Rec Loss 5516.4921875, Style Loss 653.1428833007812, Hd Loss 179.20433044433594\n",
      "Epoch1, Batch 211/375, Rec Loss 5426.056640625, Style Loss 661.4617309570312, Hd Loss 172.05522918701172\n",
      "Epoch1, Batch 221/375, Rec Loss 5354.06591796875, Style Loss 602.5457763671875, Hd Loss 174.57777404785156\n",
      "Epoch1, Batch 231/375, Rec Loss 5340.4169921875, Style Loss 587.2725830078125, Hd Loss 164.7226104736328\n",
      "Epoch1, Batch 241/375, Rec Loss 5138.32763671875, Style Loss 594.4676513671875, Hd Loss 168.55410766601562\n",
      "Epoch1, Batch 251/375, Rec Loss 5176.24365234375, Style Loss 539.1142578125, Hd Loss 160.67276763916016\n",
      "Epoch1, Batch 261/375, Rec Loss 4946.224609375, Style Loss 540.2610473632812, Hd Loss 164.99887084960938\n",
      "Epoch1, Batch 271/375, Rec Loss 5004.03564453125, Style Loss 536.4829711914062, Hd Loss 151.1152801513672\n",
      "Epoch1, Batch 281/375, Rec Loss 5041.83251953125, Style Loss 556.4647216796875, Hd Loss 153.98629760742188\n",
      "Epoch1, Batch 291/375, Rec Loss 4803.27783203125, Style Loss 512.2607421875, Hd Loss 140.70663452148438\n",
      "Epoch1, Batch 301/375, Rec Loss 4757.20166015625, Style Loss 414.91680908203125, Hd Loss 150.9903106689453\n",
      "Epoch1, Batch 311/375, Rec Loss 4735.88916015625, Style Loss 411.8682556152344, Hd Loss 161.09278869628906\n",
      "Epoch1, Batch 321/375, Rec Loss 4779.4658203125, Style Loss 435.1815185546875, Hd Loss 144.3290672302246\n",
      "Epoch1, Batch 331/375, Rec Loss 4807.3447265625, Style Loss 399.2749328613281, Hd Loss 148.59624481201172\n",
      "Epoch1, Batch 341/375, Rec Loss 4849.921875, Style Loss 389.395263671875, Hd Loss 144.13306427001953\n",
      "Epoch1, Batch 351/375, Rec Loss 4497.40380859375, Style Loss 360.72265625, Hd Loss 133.91630172729492\n",
      "Epoch1, Batch 361/375, Rec Loss 4671.583984375, Style Loss 384.4299011230469, Hd Loss 138.10142517089844\n",
      "Epoch1, Batch 371/375, Rec Loss 4697.5810546875, Style Loss 371.108154296875, Hd Loss 132.96704483032227\n",
      "\n",
      "Epoch2, Batch 1/375, Rec Loss 4505.1494140625, Style Loss 337.2366027832031, Hd Loss 144.38788604736328\n",
      "Epoch2, Batch 11/375, Rec Loss 4739.78564453125, Style Loss 341.2913818359375, Hd Loss 144.25923538208008\n",
      "Epoch2, Batch 21/375, Rec Loss 4579.1513671875, Style Loss 393.42999267578125, Hd Loss 123.3852653503418\n",
      "Epoch2, Batch 31/375, Rec Loss 4444.02001953125, Style Loss 338.02154541015625, Hd Loss 118.97990798950195\n",
      "Epoch2, Batch 41/375, Rec Loss 4594.8544921875, Style Loss 335.671630859375, Hd Loss 120.06283187866211\n",
      "Epoch2, Batch 51/375, Rec Loss 4497.9306640625, Style Loss 331.979248046875, Hd Loss 113.3551025390625\n",
      "Epoch2, Batch 61/375, Rec Loss 4508.19775390625, Style Loss 330.8942565917969, Hd Loss 121.89052963256836\n",
      "Epoch2, Batch 71/375, Rec Loss 4604.94677734375, Style Loss 320.2403259277344, Hd Loss 116.51631927490234\n",
      "Epoch2, Batch 81/375, Rec Loss 4410.3291015625, Style Loss 310.94281005859375, Hd Loss 110.91865539550781\n",
      "Epoch2, Batch 91/375, Rec Loss 4453.43701171875, Style Loss 313.1573181152344, Hd Loss 117.62031173706055\n",
      "Epoch2, Batch 101/375, Rec Loss 4497.2236328125, Style Loss 303.9156188964844, Hd Loss 103.04895401000977\n",
      "Epoch2, Batch 111/375, Rec Loss 4241.5537109375, Style Loss 291.19073486328125, Hd Loss 104.78982543945312\n",
      "Epoch2, Batch 121/375, Rec Loss 4282.18603515625, Style Loss 284.11370849609375, Hd Loss 102.45960235595703\n",
      "Epoch2, Batch 131/375, Rec Loss 4300.38330078125, Style Loss 291.5704040527344, Hd Loss 114.36667251586914\n",
      "Epoch2, Batch 141/375, Rec Loss 4158.1357421875, Style Loss 287.429931640625, Hd Loss 102.5008544921875\n",
      "Epoch2, Batch 151/375, Rec Loss 4144.30078125, Style Loss 274.29296875, Hd Loss 95.6972885131836\n",
      "Epoch2, Batch 161/375, Rec Loss 4059.6083984375, Style Loss 269.63299560546875, Hd Loss 91.17181015014648\n",
      "Epoch2, Batch 171/375, Rec Loss 4232.357421875, Style Loss 275.2238464355469, Hd Loss 104.54900360107422\n",
      "Epoch2, Batch 181/375, Rec Loss 4410.46728515625, Style Loss 492.9385986328125, Hd Loss 118.56340408325195\n",
      "Epoch2, Batch 191/375, Rec Loss 4388.9228515625, Style Loss 348.1340637207031, Hd Loss 108.04708480834961\n",
      "Epoch2, Batch 201/375, Rec Loss 4242.53564453125, Style Loss 284.6463317871094, Hd Loss 106.07229614257812\n",
      "Epoch2, Batch 211/375, Rec Loss 4368.20361328125, Style Loss 291.7130126953125, Hd Loss 125.7360725402832\n",
      "Epoch2, Batch 221/375, Rec Loss 4183.95849609375, Style Loss 266.9454650878906, Hd Loss 104.1901626586914\n",
      "Epoch2, Batch 231/375, Rec Loss 4175.203125, Style Loss 254.85011291503906, Hd Loss 89.47335815429688\n",
      "Epoch2, Batch 241/375, Rec Loss 4034.24072265625, Style Loss 252.41729736328125, Hd Loss 102.08894348144531\n",
      "Epoch2, Batch 251/375, Rec Loss 4083.66064453125, Style Loss 253.29063415527344, Hd Loss 96.72567367553711\n",
      "Epoch2, Batch 261/375, Rec Loss 3837.2119140625, Style Loss 241.86074829101562, Hd Loss 91.45750045776367\n",
      "Epoch2, Batch 271/375, Rec Loss 4001.27783203125, Style Loss 244.06207275390625, Hd Loss 91.92157363891602\n",
      "Epoch2, Batch 281/375, Rec Loss 4039.2900390625, Style Loss 251.20069885253906, Hd Loss 91.44815063476562\n",
      "Epoch2, Batch 291/375, Rec Loss 4035.230224609375, Style Loss 234.61036682128906, Hd Loss 86.0247802734375\n",
      "Epoch2, Batch 301/375, Rec Loss 3865.126953125, Style Loss 219.2374725341797, Hd Loss 88.37286376953125\n",
      "Epoch2, Batch 311/375, Rec Loss 3854.99951171875, Style Loss 230.22959899902344, Hd Loss 85.16348266601562\n",
      "Epoch2, Batch 321/375, Rec Loss 4001.514892578125, Style Loss 237.64364624023438, Hd Loss 85.75618743896484\n",
      "Epoch2, Batch 331/375, Rec Loss 3946.363037109375, Style Loss 234.2669219970703, Hd Loss 81.43563842773438\n",
      "Epoch2, Batch 341/375, Rec Loss 4048.4619140625, Style Loss 227.46083068847656, Hd Loss 76.11310195922852\n",
      "Epoch2, Batch 351/375, Rec Loss 3752.799560546875, Style Loss 208.2455291748047, Hd Loss 73.65583801269531\n",
      "Epoch2, Batch 361/375, Rec Loss 3978.82080078125, Style Loss 223.46902465820312, Hd Loss 80.80182647705078\n",
      "Epoch2, Batch 371/375, Rec Loss 3989.1962890625, Style Loss 214.53976440429688, Hd Loss 77.93080139160156\n",
      "\n",
      "Epoch3, Batch 1/375, Rec Loss 3801.518310546875, Style Loss 205.29722595214844, Hd Loss 82.4807186126709\n",
      "Epoch3, Batch 11/375, Rec Loss 4037.544189453125, Style Loss 217.918701171875, Hd Loss 92.43253135681152\n",
      "Epoch3, Batch 21/375, Rec Loss 3845.250244140625, Style Loss 214.66818237304688, Hd Loss 75.27283096313477\n",
      "Epoch3, Batch 31/375, Rec Loss 4740.931640625, Style Loss 498.5357360839844, Hd Loss 152.93718719482422\n",
      "Epoch3, Batch 41/375, Rec Loss 4742.53369140625, Style Loss 493.7452392578125, Hd Loss 143.3600845336914\n",
      "Epoch3, Batch 51/375, Rec Loss 4353.44677734375, Style Loss 506.0187683105469, Hd Loss 120.32080459594727\n",
      "Epoch3, Batch 61/375, Rec Loss 4262.42041015625, Style Loss 453.52398681640625, Hd Loss 118.35482406616211\n",
      "Epoch3, Batch 71/375, Rec Loss 4262.92578125, Style Loss 431.656005859375, Hd Loss 95.87628555297852\n",
      "Epoch3, Batch 81/375, Rec Loss 4100.1796875, Style Loss 362.7918395996094, Hd Loss 97.6935806274414\n",
      "Epoch3, Batch 91/375, Rec Loss 4138.78759765625, Style Loss 465.61590576171875, Hd Loss 93.99644470214844\n",
      "Epoch3, Batch 101/375, Rec Loss 4161.36474609375, Style Loss 349.9248046875, Hd Loss 88.09207916259766\n",
      "Epoch3, Batch 111/375, Rec Loss 3883.5224609375, Style Loss 290.0044250488281, Hd Loss 87.81904602050781\n",
      "Epoch3, Batch 121/375, Rec Loss 3947.174072265625, Style Loss 253.32325744628906, Hd Loss 89.19254684448242\n",
      "Epoch3, Batch 131/375, Rec Loss 4066.883056640625, Style Loss 256.70977783203125, Hd Loss 99.48440551757812\n",
      "Epoch3, Batch 141/375, Rec Loss 3834.7138671875, Style Loss 259.7055358886719, Hd Loss 93.47399139404297\n",
      "Epoch3, Batch 151/375, Rec Loss 3782.756103515625, Style Loss 223.34217834472656, Hd Loss 80.45099258422852\n",
      "Epoch3, Batch 161/375, Rec Loss 3727.81689453125, Style Loss 218.25389099121094, Hd Loss 72.19583702087402\n",
      "Epoch3, Batch 171/375, Rec Loss 3856.869873046875, Style Loss 218.5731201171875, Hd Loss 97.31306838989258\n",
      "Epoch3, Batch 181/375, Rec Loss 3855.501953125, Style Loss 217.17184448242188, Hd Loss 80.53795433044434\n",
      "Epoch3, Batch 191/375, Rec Loss 3883.376953125, Style Loss 203.03688049316406, Hd Loss 89.5815544128418\n",
      "Epoch3, Batch 201/375, Rec Loss 3806.05224609375, Style Loss 197.34359741210938, Hd Loss 69.20238876342773\n",
      "Epoch3, Batch 211/375, Rec Loss 3830.708251953125, Style Loss 212.947509765625, Hd Loss 88.51296997070312\n",
      "Epoch3, Batch 221/375, Rec Loss 3758.399169921875, Style Loss 201.81248474121094, Hd Loss 77.24198150634766\n",
      "Epoch3, Batch 231/375, Rec Loss 3795.528076171875, Style Loss 197.47723388671875, Hd Loss 73.34473037719727\n",
      "Epoch3, Batch 241/375, Rec Loss 4081.41845703125, Style Loss 468.234375, Hd Loss 137.56307983398438\n",
      "Epoch3, Batch 251/375, Rec Loss 4014.755615234375, Style Loss 384.3890075683594, Hd Loss 89.93532180786133\n",
      "Epoch3, Batch 261/375, Rec Loss 3678.05126953125, Style Loss 332.1789245605469, Hd Loss 90.25636291503906\n",
      "Epoch3, Batch 271/375, Rec Loss 3775.15673828125, Style Loss 323.901611328125, Hd Loss 88.53240585327148\n",
      "Epoch3, Batch 281/375, Rec Loss 3829.190185546875, Style Loss 266.154296875, Hd Loss 82.63249588012695\n",
      "Epoch3, Batch 291/375, Rec Loss 3782.305419921875, Style Loss 210.9364471435547, Hd Loss 77.25339889526367\n",
      "Epoch3, Batch 301/375, Rec Loss 3611.08056640625, Style Loss 204.2845916748047, Hd Loss 70.29385375976562\n",
      "Epoch3, Batch 311/375, Rec Loss 3608.4775390625, Style Loss 211.63815307617188, Hd Loss 81.75098419189453\n",
      "Epoch3, Batch 321/375, Rec Loss 3712.18359375, Style Loss 223.0465850830078, Hd Loss 73.43694877624512\n",
      "Epoch3, Batch 331/375, Rec Loss 3619.41796875, Style Loss 207.79356384277344, Hd Loss 71.18954467773438\n",
      "Epoch3, Batch 341/375, Rec Loss 3751.366455078125, Style Loss 203.0813751220703, Hd Loss 64.66338348388672\n",
      "Epoch3, Batch 351/375, Rec Loss 3497.3212890625, Style Loss 188.4604034423828, Hd Loss 64.04864883422852\n",
      "Epoch3, Batch 361/375, Rec Loss 3735.27783203125, Style Loss 197.9364013671875, Hd Loss 68.43003845214844\n",
      "Epoch3, Batch 371/375, Rec Loss 3797.1181640625, Style Loss 198.00062561035156, Hd Loss 63.65847396850586\n",
      "\n",
      "Epoch4, Batch 1/375, Rec Loss 3538.37353515625, Style Loss 189.58203125, Hd Loss 68.97279739379883\n",
      "Epoch4, Batch 11/375, Rec Loss 3759.242919921875, Style Loss 204.6158447265625, Hd Loss 77.2402458190918\n",
      "Epoch4, Batch 21/375, Rec Loss 3574.22900390625, Style Loss 199.62779235839844, Hd Loss 68.67662048339844\n",
      "Epoch4, Batch 31/375, Rec Loss 3583.665771484375, Style Loss 207.94464111328125, Hd Loss 71.99045944213867\n",
      "Epoch4, Batch 41/375, Rec Loss 3753.4775390625, Style Loss 206.97735595703125, Hd Loss 66.03227043151855\n",
      "Epoch4, Batch 51/375, Rec Loss 3622.85986328125, Style Loss 198.13340759277344, Hd Loss 60.867170333862305\n",
      "Epoch4, Batch 61/375, Rec Loss 3625.32763671875, Style Loss 201.16860961914062, Hd Loss 62.82047653198242\n",
      "Epoch4, Batch 71/375, Rec Loss 3711.380615234375, Style Loss 203.0408477783203, Hd Loss 63.26564025878906\n",
      "Epoch4, Batch 81/375, Rec Loss 3582.448486328125, Style Loss 188.302490234375, Hd Loss 63.027387619018555\n",
      "Epoch4, Batch 91/375, Rec Loss 3574.012939453125, Style Loss 199.05224609375, Hd Loss 56.49355506896973\n",
      "Epoch4, Batch 101/375, Rec Loss 3638.64453125, Style Loss 179.44134521484375, Hd Loss 57.265953063964844\n",
      "Epoch4, Batch 111/375, Rec Loss 3405.75, Style Loss 184.00485229492188, Hd Loss 57.61933517456055\n",
      "Epoch4, Batch 121/375, Rec Loss 3512.235107421875, Style Loss 178.66343688964844, Hd Loss 60.02890968322754\n",
      "Epoch4, Batch 131/375, Rec Loss 3555.45751953125, Style Loss 177.8740997314453, Hd Loss 67.37004661560059\n",
      "Epoch4, Batch 141/375, Rec Loss 3456.298095703125, Style Loss 190.72830200195312, Hd Loss 57.863304138183594\n",
      "Epoch4, Batch 151/375, Rec Loss 3429.1123046875, Style Loss 182.83348083496094, Hd Loss 55.94893455505371\n",
      "Epoch4, Batch 161/375, Rec Loss 3416.3212890625, Style Loss 183.36280822753906, Hd Loss 51.31256675720215\n",
      "Epoch4, Batch 171/375, Rec Loss 3437.721435546875, Style Loss 178.423095703125, Hd Loss 60.61808776855469\n",
      "Epoch4, Batch 181/375, Rec Loss 3501.78515625, Style Loss 172.60716247558594, Hd Loss 58.33843994140625\n",
      "Epoch4, Batch 191/375, Rec Loss 3529.1396484375, Style Loss 169.6583251953125, Hd Loss 62.35939025878906\n",
      "Epoch4, Batch 201/375, Rec Loss 3476.57275390625, Style Loss 162.40086364746094, Hd Loss 51.17034912109375\n",
      "Epoch4, Batch 211/375, Rec Loss 3439.698486328125, Style Loss 174.77357482910156, Hd Loss 59.7884407043457\n",
      "Epoch4, Batch 221/375, Rec Loss 3441.684814453125, Style Loss 167.3499755859375, Hd Loss 63.90560722351074\n",
      "Epoch4, Batch 231/375, Rec Loss 3495.34228515625, Style Loss 173.23512268066406, Hd Loss 54.591796875\n",
      "Epoch4, Batch 241/375, Rec Loss 3349.959716796875, Style Loss 165.65237426757812, Hd Loss 54.09674835205078\n",
      "Epoch4, Batch 251/375, Rec Loss 3475.91650390625, Style Loss 187.5506591796875, Hd Loss 61.847999572753906\n",
      "Epoch4, Batch 261/375, Rec Loss 3249.44921875, Style Loss 169.73196411132812, Hd Loss 60.13752555847168\n",
      "Epoch4, Batch 271/375, Rec Loss 3384.234375, Style Loss 176.22547912597656, Hd Loss 59.43366813659668\n",
      "Epoch4, Batch 281/375, Rec Loss 3400.848388671875, Style Loss 173.5430450439453, Hd Loss 60.91058158874512\n",
      "Epoch4, Batch 291/375, Rec Loss 3357.656005859375, Style Loss 165.597412109375, Hd Loss 53.43945503234863\n",
      "Epoch4, Batch 301/375, Rec Loss 3264.93896484375, Style Loss 157.73446655273438, Hd Loss 47.16131591796875\n",
      "Epoch4, Batch 311/375, Rec Loss 3274.436767578125, Style Loss 171.27577209472656, Hd Loss 61.10516929626465\n",
      "Epoch4, Batch 321/375, Rec Loss 3370.009033203125, Style Loss 181.66754150390625, Hd Loss 56.10137748718262\n",
      "Epoch4, Batch 331/375, Rec Loss 3295.14404296875, Style Loss 177.94515991210938, Hd Loss 53.89730453491211\n",
      "Epoch4, Batch 341/375, Rec Loss 3399.33837890625, Style Loss 172.52273559570312, Hd Loss 49.90408515930176\n",
      "Epoch4, Batch 351/375, Rec Loss 3180.42529296875, Style Loss 156.29501342773438, Hd Loss 46.325679779052734\n",
      "Epoch4, Batch 361/375, Rec Loss 3413.771484375, Style Loss 167.736328125, Hd Loss 52.246721267700195\n",
      "Epoch4, Batch 371/375, Rec Loss 3462.70703125, Style Loss 164.12403869628906, Hd Loss 53.319026947021484\n",
      "\n",
      "Epoch5, Batch 1/375, Rec Loss 3240.05029296875, Style Loss 165.10926818847656, Hd Loss 52.360992431640625\n",
      "Epoch5, Batch 11/375, Rec Loss 3479.585693359375, Style Loss 247.13235473632812, Hd Loss 70.60699844360352\n",
      "Epoch5, Batch 21/375, Rec Loss 3455.9873046875, Style Loss 232.05947875976562, Hd Loss 79.73111724853516\n",
      "Epoch5, Batch 31/375, Rec Loss 3313.80712890625, Style Loss 187.79087829589844, Hd Loss 54.909114837646484\n",
      "Epoch5, Batch 41/375, Rec Loss 3535.501708984375, Style Loss 181.79122924804688, Hd Loss 57.2569694519043\n",
      "Epoch5, Batch 51/375, Rec Loss 3369.20703125, Style Loss 176.707275390625, Hd Loss 53.54861068725586\n",
      "Epoch5, Batch 61/375, Rec Loss 3317.6416015625, Style Loss 176.880126953125, Hd Loss 51.38801383972168\n",
      "Epoch5, Batch 71/375, Rec Loss 3424.212158203125, Style Loss 179.35958862304688, Hd Loss 52.42690467834473\n",
      "Epoch5, Batch 81/375, Rec Loss 3303.041748046875, Style Loss 161.4351806640625, Hd Loss 48.04880714416504\n",
      "Epoch5, Batch 91/375, Rec Loss 3287.17626953125, Style Loss 178.47096252441406, Hd Loss 46.61391830444336\n",
      "Epoch5, Batch 101/375, Rec Loss 3354.1123046875, Style Loss 155.80064392089844, Hd Loss 44.95011901855469\n",
      "Epoch5, Batch 111/375, Rec Loss 3115.75, Style Loss 166.48095703125, Hd Loss 48.83716583251953\n",
      "Epoch5, Batch 121/375, Rec Loss 3242.64013671875, Style Loss 153.0398712158203, Hd Loss 51.119754791259766\n",
      "Epoch5, Batch 131/375, Rec Loss 3288.684814453125, Style Loss 155.6671600341797, Hd Loss 56.07757759094238\n",
      "Epoch5, Batch 141/375, Rec Loss 3188.456298828125, Style Loss 166.19146728515625, Hd Loss 47.56480026245117\n",
      "Epoch5, Batch 151/375, Rec Loss 3152.373046875, Style Loss 160.15231323242188, Hd Loss 44.970887184143066\n",
      "Epoch5, Batch 161/375, Rec Loss 3141.25830078125, Style Loss 165.5086212158203, Hd Loss 43.08074378967285\n",
      "Epoch5, Batch 171/375, Rec Loss 3198.491455078125, Style Loss 157.9431915283203, Hd Loss 55.30691909790039\n",
      "Epoch5, Batch 181/375, Rec Loss 3254.92041015625, Style Loss 150.01724243164062, Hd Loss 51.5714111328125\n",
      "Epoch5, Batch 191/375, Rec Loss 3265.4287109375, Style Loss 150.47927856445312, Hd Loss 52.66064262390137\n",
      "Epoch5, Batch 201/375, Rec Loss 3248.59375, Style Loss 143.24319458007812, Hd Loss 41.087374687194824\n",
      "Epoch5, Batch 211/375, Rec Loss 3164.1982421875, Style Loss 149.70126342773438, Hd Loss 52.088069915771484\n",
      "Epoch5, Batch 221/375, Rec Loss 3190.72021484375, Style Loss 145.45938110351562, Hd Loss 57.79484748840332\n",
      "Epoch5, Batch 231/375, Rec Loss 3225.394775390625, Style Loss 150.5827178955078, Hd Loss 46.47402381896973\n",
      "Epoch5, Batch 241/375, Rec Loss 3105.805908203125, Style Loss 144.0342254638672, Hd Loss 46.572988510131836\n",
      "Epoch5, Batch 251/375, Rec Loss 3171.274658203125, Style Loss 166.28970336914062, Hd Loss 51.71490478515625\n",
      "Epoch5, Batch 261/375, Rec Loss 2987.383544921875, Style Loss 143.65203857421875, Hd Loss 45.42611122131348\n",
      "Epoch5, Batch 271/375, Rec Loss 3122.932373046875, Style Loss 165.48826599121094, Hd Loss 52.09339904785156\n",
      "Epoch5, Batch 281/375, Rec Loss 3157.997314453125, Style Loss 149.3673553466797, Hd Loss 49.401344299316406\n",
      "Epoch5, Batch 291/375, Rec Loss 3122.31298828125, Style Loss 141.9952850341797, Hd Loss 47.56473731994629\n",
      "Epoch5, Batch 301/375, Rec Loss 3035.917236328125, Style Loss 138.7585906982422, Hd Loss 39.43165302276611\n",
      "Epoch5, Batch 311/375, Rec Loss 3037.567626953125, Style Loss 156.28062438964844, Hd Loss 50.766578674316406\n",
      "Epoch5, Batch 321/375, Rec Loss 3128.928955078125, Style Loss 164.8675079345703, Hd Loss 44.69656467437744\n",
      "Epoch5, Batch 331/375, Rec Loss 3029.92431640625, Style Loss 160.8235626220703, Hd Loss 46.69124984741211\n",
      "Epoch5, Batch 341/375, Rec Loss 3138.66357421875, Style Loss 151.56326293945312, Hd Loss 42.68741416931152\n",
      "Epoch5, Batch 351/375, Rec Loss 2961.576416015625, Style Loss 136.4279327392578, Hd Loss 41.21042442321777\n",
      "Epoch5, Batch 361/375, Rec Loss 3168.161376953125, Style Loss 151.8344268798828, Hd Loss 48.710453033447266\n",
      "Epoch5, Batch 371/375, Rec Loss 3225.179931640625, Style Loss 149.7424774169922, Hd Loss 46.92787742614746\n",
      "\n",
      "Epoch6, Batch 1/375, Rec Loss 3019.806884765625, Style Loss 157.3921661376953, Hd Loss 42.16021537780762\n",
      "Epoch6, Batch 11/375, Rec Loss 3210.84765625, Style Loss 182.98785400390625, Hd Loss 56.21538162231445\n",
      "Epoch6, Batch 21/375, Rec Loss 3247.898681640625, Style Loss 301.88360595703125, Hd Loss 61.45139122009277\n",
      "Epoch6, Batch 31/375, Rec Loss 3117.523193359375, Style Loss 185.72373962402344, Hd Loss 50.03375053405762\n",
      "Epoch6, Batch 41/375, Rec Loss 3363.347412109375, Style Loss 183.57659912109375, Hd Loss 51.76907730102539\n",
      "Epoch6, Batch 51/375, Rec Loss 3132.525146484375, Style Loss 166.7244415283203, Hd Loss 48.820621490478516\n",
      "Epoch6, Batch 61/375, Rec Loss 3113.990966796875, Style Loss 161.16494750976562, Hd Loss 45.450862884521484\n",
      "Epoch6, Batch 71/375, Rec Loss 3181.688720703125, Style Loss 165.37484741210938, Hd Loss 49.69808387756348\n",
      "Epoch6, Batch 81/375, Rec Loss 3096.373046875, Style Loss 154.4080047607422, Hd Loss 44.17033576965332\n",
      "Epoch6, Batch 91/375, Rec Loss 3041.677001953125, Style Loss 163.53955078125, Hd Loss 41.035051345825195\n",
      "Epoch6, Batch 101/375, Rec Loss 3101.67822265625, Style Loss 142.61203002929688, Hd Loss 39.780155181884766\n",
      "Epoch6, Batch 111/375, Rec Loss 2872.943603515625, Style Loss 153.27053833007812, Hd Loss 42.96628952026367\n",
      "Epoch6, Batch 121/375, Rec Loss 3011.904052734375, Style Loss 138.85830688476562, Hd Loss 45.27424430847168\n",
      "Epoch6, Batch 131/375, Rec Loss 3073.10107421875, Style Loss 139.09259033203125, Hd Loss 47.14056205749512\n",
      "Epoch6, Batch 141/375, Rec Loss 2961.801513671875, Style Loss 155.5064239501953, Hd Loss 39.71963691711426\n",
      "Epoch6, Batch 151/375, Rec Loss 2924.658935546875, Style Loss 147.57839965820312, Hd Loss 37.94926834106445\n",
      "Epoch6, Batch 161/375, Rec Loss 2916.93359375, Style Loss 147.5000457763672, Hd Loss 37.73564338684082\n",
      "Epoch6, Batch 171/375, Rec Loss 2954.3525390625, Style Loss 140.1469268798828, Hd Loss 43.53275680541992\n",
      "Epoch6, Batch 181/375, Rec Loss 3046.36474609375, Style Loss 138.34815979003906, Hd Loss 41.27038764953613\n",
      "Epoch6, Batch 191/375, Rec Loss 3039.2890625, Style Loss 138.3620147705078, Hd Loss 40.84124946594238\n",
      "Epoch6, Batch 201/375, Rec Loss 3034.266845703125, Style Loss 128.65277099609375, Hd Loss 36.85126495361328\n",
      "Epoch6, Batch 211/375, Rec Loss 2937.582275390625, Style Loss 137.54592895507812, Hd Loss 45.68835258483887\n",
      "Epoch6, Batch 221/375, Rec Loss 2979.356201171875, Style Loss 130.41537475585938, Hd Loss 44.966691970825195\n",
      "Epoch6, Batch 231/375, Rec Loss 3029.025146484375, Style Loss 136.07815551757812, Hd Loss 39.7527437210083\n",
      "Epoch6, Batch 241/375, Rec Loss 2875.6728515625, Style Loss 131.61483764648438, Hd Loss 38.15279769897461\n",
      "Epoch6, Batch 251/375, Rec Loss 2909.15234375, Style Loss 148.50633239746094, Hd Loss 40.821417808532715\n",
      "Epoch6, Batch 261/375, Rec Loss 2758.1171875, Style Loss 129.6172637939453, Hd Loss 38.34212112426758\n",
      "Epoch6, Batch 271/375, Rec Loss 2928.923095703125, Style Loss 142.14869689941406, Hd Loss 44.84170913696289\n",
      "Epoch6, Batch 281/375, Rec Loss 2941.38037109375, Style Loss 134.84605407714844, Hd Loss 40.20174503326416\n",
      "Epoch6, Batch 291/375, Rec Loss 2908.21435546875, Style Loss 131.33441162109375, Hd Loss 39.504173278808594\n",
      "Epoch6, Batch 301/375, Rec Loss 2835.07080078125, Style Loss 132.60476684570312, Hd Loss 36.325679779052734\n",
      "Epoch6, Batch 311/375, Rec Loss 2834.7685546875, Style Loss 145.61546325683594, Hd Loss 46.298288345336914\n",
      "Epoch6, Batch 321/375, Rec Loss 2931.374267578125, Style Loss 155.1140899658203, Hd Loss 39.36534595489502\n",
      "Epoch6, Batch 331/375, Rec Loss 2811.8251953125, Style Loss 148.9195098876953, Hd Loss 39.15215873718262\n",
      "Epoch6, Batch 341/375, Rec Loss 2925.484375, Style Loss 138.03318786621094, Hd Loss 36.136253356933594\n",
      "Epoch6, Batch 351/375, Rec Loss 2766.605712890625, Style Loss 123.60216522216797, Hd Loss 35.45689105987549\n",
      "Epoch6, Batch 361/375, Rec Loss 2954.040771484375, Style Loss 141.58074951171875, Hd Loss 41.87714195251465\n",
      "Epoch6, Batch 371/375, Rec Loss 3046.212158203125, Style Loss 139.71670532226562, Hd Loss 42.97705078125\n",
      "\n",
      "Epoch7, Batch 1/375, Rec Loss 2855.841552734375, Style Loss 149.68190002441406, Hd Loss 40.92749214172363\n",
      "Epoch7, Batch 11/375, Rec Loss 3023.864501953125, Style Loss 138.5455322265625, Hd Loss 47.428192138671875\n",
      "Epoch7, Batch 21/375, Rec Loss 2903.063720703125, Style Loss 146.75636291503906, Hd Loss 44.08024215698242\n",
      "Epoch7, Batch 31/375, Rec Loss 2861.408447265625, Style Loss 149.2700958251953, Hd Loss 41.777042388916016\n",
      "Epoch7, Batch 41/375, Rec Loss 3051.075439453125, Style Loss 150.1694793701172, Hd Loss 41.03074264526367\n",
      "Epoch7, Batch 51/375, Rec Loss 2860.1591796875, Style Loss 142.3368377685547, Hd Loss 38.192792892456055\n",
      "Epoch7, Batch 61/375, Rec Loss 2865.448974609375, Style Loss 144.01795959472656, Hd Loss 38.69489288330078\n",
      "Epoch7, Batch 71/375, Rec Loss 2975.080078125, Style Loss 149.35833740234375, Hd Loss 45.113765716552734\n",
      "Epoch7, Batch 81/375, Rec Loss 2891.91796875, Style Loss 137.8123016357422, Hd Loss 34.08943462371826\n",
      "Epoch7, Batch 91/375, Rec Loss 2841.085205078125, Style Loss 150.39300537109375, Hd Loss 36.548622131347656\n",
      "Epoch7, Batch 101/375, Rec Loss 2881.3349609375, Style Loss 129.48992919921875, Hd Loss 34.90791893005371\n",
      "Epoch7, Batch 111/375, Rec Loss 2664.62255859375, Style Loss 140.2081298828125, Hd Loss 37.39291477203369\n",
      "Epoch7, Batch 121/375, Rec Loss 2831.412353515625, Style Loss 131.48216247558594, Hd Loss 40.82413101196289\n",
      "Epoch7, Batch 131/375, Rec Loss 2853.460205078125, Style Loss 127.52729034423828, Hd Loss 39.14889621734619\n",
      "Epoch7, Batch 141/375, Rec Loss 2766.9892578125, Style Loss 149.6353302001953, Hd Loss 33.38565731048584\n",
      "Epoch7, Batch 151/375, Rec Loss 2706.841796875, Style Loss 136.95314025878906, Hd Loss 35.47544860839844\n",
      "Epoch7, Batch 161/375, Rec Loss 2706.1005859375, Style Loss 136.16368103027344, Hd Loss 32.94683361053467\n",
      "Epoch7, Batch 171/375, Rec Loss 2749.2958984375, Style Loss 127.75299835205078, Hd Loss 35.13731575012207\n",
      "Epoch7, Batch 181/375, Rec Loss 2851.07421875, Style Loss 128.4121551513672, Hd Loss 34.84438896179199\n",
      "Epoch7, Batch 191/375, Rec Loss 2840.216064453125, Style Loss 127.87541961669922, Hd Loss 36.9255428314209\n",
      "Epoch7, Batch 201/375, Rec Loss 2839.269287109375, Style Loss 119.15714263916016, Hd Loss 31.028566360473633\n",
      "Epoch7, Batch 211/375, Rec Loss 2738.227783203125, Style Loss 132.5167694091797, Hd Loss 38.86137294769287\n",
      "Epoch7, Batch 221/375, Rec Loss 2798.089111328125, Style Loss 118.90084075927734, Hd Loss 39.86959934234619\n",
      "Epoch7, Batch 231/375, Rec Loss 2831.9853515625, Style Loss 127.85304260253906, Hd Loss 34.75455093383789\n",
      "Epoch7, Batch 241/375, Rec Loss 2680.260498046875, Style Loss 123.52561950683594, Hd Loss 35.485517501831055\n",
      "Epoch7, Batch 251/375, Rec Loss 2705.81689453125, Style Loss 139.90966796875, Hd Loss 35.284058570861816\n",
      "Epoch7, Batch 261/375, Rec Loss 2563.875732421875, Style Loss 119.97876739501953, Hd Loss 32.28383445739746\n",
      "Epoch7, Batch 271/375, Rec Loss 2753.7587890625, Style Loss 134.8388671875, Hd Loss 40.520620346069336\n",
      "Epoch7, Batch 281/375, Rec Loss 2750.933837890625, Style Loss 125.05191040039062, Hd Loss 34.00963497161865\n",
      "Epoch7, Batch 291/375, Rec Loss 2740.61328125, Style Loss 121.50749206542969, Hd Loss 36.18959999084473\n",
      "Epoch7, Batch 301/375, Rec Loss 2690.9951171875, Style Loss 122.65489196777344, Hd Loss 32.069899559020996\n",
      "Epoch7, Batch 311/375, Rec Loss 2674.32373046875, Style Loss 140.6772918701172, Hd Loss 40.05682849884033\n",
      "Epoch7, Batch 321/375, Rec Loss 2769.04736328125, Style Loss 145.94850158691406, Hd Loss 36.75568199157715\n",
      "Epoch7, Batch 331/375, Rec Loss 2658.523681640625, Style Loss 138.4325408935547, Hd Loss 36.24808979034424\n",
      "Epoch7, Batch 341/375, Rec Loss 2746.220703125, Style Loss 126.85780334472656, Hd Loss 30.952526092529297\n",
      "Epoch7, Batch 351/375, Rec Loss 2598.084228515625, Style Loss 114.8752670288086, Hd Loss 31.725281715393066\n",
      "Epoch7, Batch 361/375, Rec Loss 2773.642822265625, Style Loss 135.37960815429688, Hd Loss 36.40464496612549\n",
      "Epoch7, Batch 371/375, Rec Loss 2855.67138671875, Style Loss 130.9658203125, Hd Loss 38.09579277038574\n",
      "\n",
      "Epoch8, Batch 1/375, Rec Loss 2670.162353515625, Style Loss 141.0024871826172, Hd Loss 33.11779594421387\n",
      "Epoch8, Batch 11/375, Rec Loss 2846.155517578125, Style Loss 125.1853256225586, Hd Loss 40.90539741516113\n",
      "Epoch8, Batch 21/375, Rec Loss 2737.98876953125, Style Loss 142.40843200683594, Hd Loss 38.43630027770996\n",
      "Epoch8, Batch 31/375, Rec Loss 2709.72216796875, Style Loss 137.44949340820312, Hd Loss 38.02371788024902\n",
      "Epoch8, Batch 41/375, Rec Loss 2870.392333984375, Style Loss 137.63304138183594, Hd Loss 33.93345642089844\n",
      "Epoch8, Batch 51/375, Rec Loss 2668.380126953125, Style Loss 131.9496307373047, Hd Loss 34.85140514373779\n",
      "Epoch8, Batch 61/375, Rec Loss 2686.68408203125, Style Loss 134.0830535888672, Hd Loss 35.49477672576904\n",
      "Epoch8, Batch 71/375, Rec Loss 2790.517333984375, Style Loss 140.8618621826172, Hd Loss 41.185102462768555\n",
      "Epoch8, Batch 81/375, Rec Loss 2733.82666015625, Style Loss 127.11640167236328, Hd Loss 31.885013580322266\n",
      "Epoch8, Batch 91/375, Rec Loss 2665.196044921875, Style Loss 142.4547119140625, Hd Loss 35.33167362213135\n",
      "Epoch8, Batch 101/375, Rec Loss 2705.00732421875, Style Loss 120.2681884765625, Hd Loss 29.342666625976562\n",
      "Epoch8, Batch 111/375, Rec Loss 2507.4033203125, Style Loss 132.08551025390625, Hd Loss 32.108558654785156\n",
      "Epoch8, Batch 121/375, Rec Loss 2685.45654296875, Style Loss 128.95278930664062, Hd Loss 36.05636215209961\n",
      "Epoch8, Batch 131/375, Rec Loss 2695.43408203125, Style Loss 123.21678161621094, Hd Loss 33.687482833862305\n",
      "Epoch8, Batch 141/375, Rec Loss 2618.925537109375, Style Loss 139.00567626953125, Hd Loss 30.314748764038086\n",
      "Epoch8, Batch 151/375, Rec Loss 2541.730224609375, Style Loss 131.03329467773438, Hd Loss 31.412589073181152\n",
      "Epoch8, Batch 161/375, Rec Loss 2539.9091796875, Style Loss 126.58525085449219, Hd Loss 30.59229278564453\n",
      "Epoch8, Batch 171/375, Rec Loss 2590.154296875, Style Loss 118.6275405883789, Hd Loss 35.26860237121582\n",
      "Epoch8, Batch 181/375, Rec Loss 2682.994873046875, Style Loss 124.982421875, Hd Loss 29.491853713989258\n",
      "Epoch8, Batch 191/375, Rec Loss 2678.69580078125, Style Loss 118.9377212524414, Hd Loss 31.75038719177246\n",
      "Epoch8, Batch 201/375, Rec Loss 2686.936767578125, Style Loss 112.0559310913086, Hd Loss 29.512094497680664\n",
      "Epoch8, Batch 211/375, Rec Loss 2573.481201171875, Style Loss 120.88357543945312, Hd Loss 36.867448806762695\n",
      "Epoch8, Batch 221/375, Rec Loss 2665.4619140625, Style Loss 112.04042053222656, Hd Loss 35.338266372680664\n",
      "Epoch8, Batch 231/375, Rec Loss 2694.2783203125, Style Loss 123.82598114013672, Hd Loss 31.414867401123047\n",
      "Epoch8, Batch 241/375, Rec Loss 2525.121337890625, Style Loss 116.0019760131836, Hd Loss 31.490017890930176\n",
      "Epoch8, Batch 251/375, Rec Loss 2556.018798828125, Style Loss 133.6522216796875, Hd Loss 32.41753387451172\n",
      "Epoch8, Batch 261/375, Rec Loss 2439.958251953125, Style Loss 113.29691314697266, Hd Loss 30.806522369384766\n",
      "Epoch8, Batch 271/375, Rec Loss 2607.533935546875, Style Loss 128.40823364257812, Hd Loss 35.88374996185303\n",
      "Epoch8, Batch 281/375, Rec Loss 2640.6396484375, Style Loss 117.82584381103516, Hd Loss 31.939802169799805\n",
      "Epoch8, Batch 291/375, Rec Loss 2584.662841796875, Style Loss 114.65672302246094, Hd Loss 32.67555046081543\n",
      "Epoch8, Batch 301/375, Rec Loss 2568.844482421875, Style Loss 113.36983489990234, Hd Loss 29.67794418334961\n",
      "Epoch8, Batch 311/375, Rec Loss 2505.19482421875, Style Loss 128.37449645996094, Hd Loss 36.28081130981445\n",
      "Epoch8, Batch 321/375, Rec Loss 2655.894775390625, Style Loss 142.47825622558594, Hd Loss 34.96964168548584\n",
      "Epoch8, Batch 331/375, Rec Loss 2508.529541015625, Style Loss 126.84651947021484, Hd Loss 34.16342639923096\n",
      "Epoch8, Batch 341/375, Rec Loss 2584.958984375, Style Loss 118.7406997680664, Hd Loss 27.627958297729492\n",
      "Epoch8, Batch 351/375, Rec Loss 2494.81787109375, Style Loss 111.74616241455078, Hd Loss 30.635517120361328\n",
      "Epoch8, Batch 361/375, Rec Loss 2645.29931640625, Style Loss 127.07274627685547, Hd Loss 33.12588405609131\n",
      "Epoch8, Batch 371/375, Rec Loss 2705.170166015625, Style Loss 126.87669372558594, Hd Loss 36.753838539123535\n",
      "\n",
      "Epoch9, Batch 1/375, Rec Loss 2516.056884765625, Style Loss 132.8766326904297, Hd Loss 27.064435958862305\n",
      "Epoch9, Batch 11/375, Rec Loss 2735.1240234375, Style Loss 118.45372772216797, Hd Loss 36.54836177825928\n",
      "Epoch9, Batch 21/375, Rec Loss 2609.51611328125, Style Loss 131.93890380859375, Hd Loss 33.860904693603516\n",
      "Epoch9, Batch 31/375, Rec Loss 2567.0126953125, Style Loss 128.67398071289062, Hd Loss 30.92988681793213\n",
      "Epoch9, Batch 41/375, Rec Loss 2740.213623046875, Style Loss 131.70596313476562, Hd Loss 32.77366828918457\n",
      "Epoch9, Batch 51/375, Rec Loss 2526.983154296875, Style Loss 127.1817626953125, Hd Loss 33.519649505615234\n",
      "Epoch9, Batch 61/375, Rec Loss 2559.08203125, Style Loss 124.77967071533203, Hd Loss 33.82759761810303\n",
      "Epoch9, Batch 71/375, Rec Loss 2641.21435546875, Style Loss 133.5997314453125, Hd Loss 34.454641342163086\n",
      "Epoch9, Batch 81/375, Rec Loss 2624.904052734375, Style Loss 117.680419921875, Hd Loss 30.64188575744629\n",
      "Epoch9, Batch 91/375, Rec Loss 2538.0908203125, Style Loss 133.4447021484375, Hd Loss 32.20598888397217\n",
      "Epoch9, Batch 101/375, Rec Loss 2562.95947265625, Style Loss 115.95288848876953, Hd Loss 27.567615509033203\n",
      "Epoch9, Batch 111/375, Rec Loss 2382.3251953125, Style Loss 126.77312469482422, Hd Loss 28.56748676300049\n",
      "Epoch9, Batch 121/375, Rec Loss 2554.989013671875, Style Loss 120.34285736083984, Hd Loss 35.924184799194336\n",
      "Epoch9, Batch 131/375, Rec Loss 2576.781982421875, Style Loss 116.96381378173828, Hd Loss 31.972203254699707\n",
      "Epoch9, Batch 141/375, Rec Loss 2485.341552734375, Style Loss 128.05027770996094, Hd Loss 27.86800765991211\n",
      "Epoch9, Batch 151/375, Rec Loss 2414.121826171875, Style Loss 121.77628326416016, Hd Loss 28.964811325073242\n",
      "Epoch9, Batch 161/375, Rec Loss 2418.45703125, Style Loss 123.6406478881836, Hd Loss 29.173314094543457\n",
      "Epoch9, Batch 171/375, Rec Loss 2460.785400390625, Style Loss 114.67206573486328, Hd Loss 33.59994697570801\n",
      "Epoch9, Batch 181/375, Rec Loss 2554.56201171875, Style Loss 120.31544494628906, Hd Loss 27.78988265991211\n",
      "Epoch9, Batch 191/375, Rec Loss 2540.09326171875, Style Loss 112.49605560302734, Hd Loss 31.479644775390625\n",
      "Epoch9, Batch 201/375, Rec Loss 2559.124755859375, Style Loss 105.5704345703125, Hd Loss 24.967432022094727\n",
      "Epoch9, Batch 211/375, Rec Loss 2460.37353515625, Style Loss 117.15782928466797, Hd Loss 34.775390625\n",
      "Epoch9, Batch 221/375, Rec Loss 2542.698974609375, Style Loss 106.90995788574219, Hd Loss 32.36328315734863\n",
      "Epoch9, Batch 231/375, Rec Loss 2568.818603515625, Style Loss 121.5339584350586, Hd Loss 29.94687271118164\n",
      "Epoch9, Batch 241/375, Rec Loss 2421.303466796875, Style Loss 111.56001281738281, Hd Loss 29.12299633026123\n",
      "Epoch9, Batch 251/375, Rec Loss 2424.984375, Style Loss 128.730224609375, Hd Loss 28.83535099029541\n",
      "Epoch9, Batch 261/375, Rec Loss 2339.595947265625, Style Loss 109.72956085205078, Hd Loss 29.19940185546875\n",
      "Epoch9, Batch 271/375, Rec Loss 2473.952880859375, Style Loss 121.24584197998047, Hd Loss 32.7415714263916\n",
      "Epoch9, Batch 281/375, Rec Loss 2537.841796875, Style Loss 111.73422241210938, Hd Loss 30.281142234802246\n",
      "Epoch9, Batch 291/375, Rec Loss 2462.585205078125, Style Loss 108.74703979492188, Hd Loss 30.417539596557617\n",
      "Epoch9, Batch 301/375, Rec Loss 2420.323486328125, Style Loss 116.08987426757812, Hd Loss 27.173723220825195\n",
      "Epoch9, Batch 311/375, Rec Loss 2376.61572265625, Style Loss 120.10403442382812, Hd Loss 31.24641990661621\n",
      "Epoch9, Batch 321/375, Rec Loss 2523.99560546875, Style Loss 134.04173278808594, Hd Loss 30.24332332611084\n",
      "Epoch9, Batch 331/375, Rec Loss 2373.6005859375, Style Loss 119.56846618652344, Hd Loss 33.79876708984375\n",
      "Epoch9, Batch 341/375, Rec Loss 2463.696044921875, Style Loss 109.72374725341797, Hd Loss 26.91418743133545\n",
      "Epoch9, Batch 351/375, Rec Loss 2385.956298828125, Style Loss 104.1795425415039, Hd Loss 29.259456634521484\n",
      "Epoch9, Batch 361/375, Rec Loss 2526.5751953125, Style Loss 121.40048217773438, Hd Loss 33.934438705444336\n",
      "Epoch9, Batch 371/375, Rec Loss 2603.663330078125, Style Loss 121.63763427734375, Hd Loss 33.87931823730469\n",
      "\n",
      "Epoch10, Batch 1/375, Rec Loss 2394.246826171875, Style Loss 126.4853515625, Hd Loss 24.06347370147705\n",
      "Epoch10, Batch 11/375, Rec Loss 2641.450927734375, Style Loss 115.62183380126953, Hd Loss 35.68985176086426\n",
      "Epoch10, Batch 21/375, Rec Loss 2488.842041015625, Style Loss 125.22223663330078, Hd Loss 32.79337501525879\n",
      "Epoch10, Batch 31/375, Rec Loss 2498.381591796875, Style Loss 126.18184661865234, Hd Loss 31.6216983795166\n",
      "Epoch10, Batch 41/375, Rec Loss 2589.46240234375, Style Loss 129.29302978515625, Hd Loss 28.59930419921875\n",
      "Epoch10, Batch 51/375, Rec Loss 2413.298095703125, Style Loss 124.45599365234375, Hd Loss 32.68840217590332\n",
      "Epoch10, Batch 61/375, Rec Loss 2448.955078125, Style Loss 114.80097961425781, Hd Loss 33.14527416229248\n",
      "Epoch10, Batch 71/375, Rec Loss 2503.0302734375, Style Loss 122.8237075805664, Hd Loss 30.413619995117188\n",
      "Epoch10, Batch 81/375, Rec Loss 2517.2724609375, Style Loss 110.68843078613281, Hd Loss 29.675086975097656\n",
      "Epoch10, Batch 91/375, Rec Loss 2462.70849609375, Style Loss 130.6189422607422, Hd Loss 36.260738372802734\n",
      "Epoch10, Batch 101/375, Rec Loss 2471.82861328125, Style Loss 112.3742904663086, Hd Loss 28.051273345947266\n",
      "Epoch10, Batch 111/375, Rec Loss 2272.30517578125, Style Loss 119.59197998046875, Hd Loss 25.14808750152588\n",
      "Epoch10, Batch 121/375, Rec Loss 2411.4873046875, Style Loss 114.37086486816406, Hd Loss 30.068984031677246\n",
      "Epoch10, Batch 131/375, Rec Loss 2486.356689453125, Style Loss 114.5730972290039, Hd Loss 30.50127124786377\n",
      "Epoch10, Batch 141/375, Rec Loss 2377.4287109375, Style Loss 119.00071716308594, Hd Loss 26.047042846679688\n",
      "Epoch10, Batch 151/375, Rec Loss 2318.08544921875, Style Loss 119.20008850097656, Hd Loss 27.49478816986084\n",
      "Epoch10, Batch 161/375, Rec Loss 2316.25146484375, Style Loss 120.00492858886719, Hd Loss 27.806293487548828\n",
      "Epoch10, Batch 171/375, Rec Loss 2358.121826171875, Style Loss 109.64253997802734, Hd Loss 29.53347396850586\n",
      "Epoch10, Batch 181/375, Rec Loss 2456.679931640625, Style Loss 113.20982360839844, Hd Loss 29.037219047546387\n",
      "Epoch10, Batch 191/375, Rec Loss 2455.425048828125, Style Loss 104.24150085449219, Hd Loss 31.215986251831055\n",
      "Epoch10, Batch 201/375, Rec Loss 2467.155029296875, Style Loss 101.03031158447266, Hd Loss 24.964423179626465\n",
      "Epoch10, Batch 211/375, Rec Loss 2376.203857421875, Style Loss 110.43761444091797, Hd Loss 32.80106544494629\n",
      "Epoch10, Batch 221/375, Rec Loss 2433.487548828125, Style Loss 103.86219787597656, Hd Loss 31.338294982910156\n",
      "Epoch10, Batch 231/375, Rec Loss 2467.504150390625, Style Loss 117.84971618652344, Hd Loss 28.982757568359375\n",
      "Epoch10, Batch 241/375, Rec Loss 2321.72021484375, Style Loss 111.67826080322266, Hd Loss 26.904459953308105\n",
      "Epoch10, Batch 251/375, Rec Loss 2328.489501953125, Style Loss 122.43016052246094, Hd Loss 28.7317533493042\n",
      "Epoch10, Batch 261/375, Rec Loss 2228.0859375, Style Loss 102.91829681396484, Hd Loss 27.5761775970459\n",
      "Epoch10, Batch 271/375, Rec Loss 2359.123779296875, Style Loss 122.03115844726562, Hd Loss 29.75160026550293\n",
      "Epoch10, Batch 281/375, Rec Loss 2412.9033203125, Style Loss 109.45543670654297, Hd Loss 26.725274085998535\n",
      "Epoch10, Batch 291/375, Rec Loss 2360.713623046875, Style Loss 100.93494415283203, Hd Loss 29.77091121673584\n",
      "Epoch10, Batch 301/375, Rec Loss 2322.534912109375, Style Loss 111.43057250976562, Hd Loss 25.6301851272583\n",
      "Epoch10, Batch 311/375, Rec Loss 2270.197509765625, Style Loss 115.95084381103516, Hd Loss 30.362879753112793\n",
      "Epoch10, Batch 321/375, Rec Loss 2416.689208984375, Style Loss 126.2100601196289, Hd Loss 28.067062377929688\n",
      "Epoch10, Batch 331/375, Rec Loss 2272.38916015625, Style Loss 111.56260681152344, Hd Loss 31.445724487304688\n",
      "Epoch10, Batch 341/375, Rec Loss 2355.872314453125, Style Loss 102.65094757080078, Hd Loss 25.185431480407715\n",
      "Epoch10, Batch 351/375, Rec Loss 2276.91455078125, Style Loss 96.53693389892578, Hd Loss 24.527833938598633\n",
      "Epoch10, Batch 361/375, Rec Loss 2410.283447265625, Style Loss 111.11869812011719, Hd Loss 27.521604537963867\n",
      "Epoch10, Batch 371/375, Rec Loss 2429.111572265625, Style Loss 109.19601440429688, Hd Loss 31.43103790283203\n",
      "\n"
     ]
    }
   ],
   "source": [
    "for e in range(args.epochs):\n",
    "    transformer.train()\n",
    "\n",
    "    for ib in range(num_batch):\n",
    "        optimizer.zero_grad()\n",
    "        \n",
    "        ind0, ind1 = ib * args.batch_size, min((ib+1) * args.batch_size, num_model)\n",
    "        \n",
    "        # Supervised step\n",
    "        m_rec_var = Variable(torch.from_numpy(m_rec[ind0:ind1, ...]).float()).to(device)\n",
    "        m_cond_var = Variable(torch.from_numpy(m_cond[ind0:ind1, ...]).float()).to(device)\n",
    "        m_cond_pred_var = transformer(m_rec_var)\n",
    "        rec_loss = args.rec_weight * mae_loss(m_cond_pred_var, m_cond_var)\n",
    "        \n",
    "        # Compute hard data loss\n",
    "        hd_loss1 = args.hd_weight * compute_hd_loss(m_cond_pred_var, well_hd_all)\n",
    "        \n",
    "        # Unsupervised step\n",
    "        m_pca_var = Variable(torch.from_numpy(m_pca[ind0:ind1, ...]).float()).to(device)\n",
    "        m_pca_pred_var = transformer(m_pca_var).repeat(1, 3, 1, 1, 1)\n",
    "\n",
    "        m_cond_var_img = Variable(m_cond_var.data.clone().repeat(1, 3, 1, 1, 1))\n",
    "    \n",
    "        features_m_pca_pred = c3d(m_pca_pred_var)\n",
    "        features_m_cond = c3d(m_cond_var_img)\n",
    "\n",
    "        style_loss = 0.\n",
    "        for m in range(len(features_m_pca_pred)):\n",
    "            gram_m_cond = gram_matrix(features_m_cond[m])\n",
    "            gram_m_pca_pred = gram_matrix(features_m_pca_pred[m])\n",
    "            \n",
    "            style_loss += args.style_weight * mae_loss(gram_m_pca_pred, gram_m_cond)\n",
    "\n",
    "\n",
    "        # Compute hard data loss\n",
    "        hd_loss2 = args.hd_weight * compute_hd_loss(m_pca_pred_var, well_hd_all)\n",
    "\n",
    "        total_loss = rec_loss + style_loss + hd_loss1 + hd_loss2\n",
    "        total_loss.backward()\n",
    "        optimizer.step()\n",
    "        #\n",
    "        if ib % args.log_interval == 0:\n",
    "            print('Epoch{}, Batch {}/{}, Rec Loss {}, Style Loss {}, Hd Loss {}'\n",
    "                  .format(e+1, ib+1, num_batch, rec_loss.item(), style_loss.item(), hd_loss1.item() + hd_loss2.item()))\n",
    "    print('')\n",
    "    torch.save(transformer.state_dict(), args.save_model + '_sw%.1f_rw%.1f_hw%.1f_%dep.model' \n",
    "               % (args.style_weight, args.rec_weight, args.hd_weight, e))"
   ]
  },
  {
   "cell_type": "code",
   "execution_count": 30,
   "metadata": {},
   "outputs": [],
   "source": [
    "exit()"
   ]
  }
 ],
 "metadata": {
  "kernelspec": {
   "display_name": "Python [conda env:pth-1.4]",
   "language": "python",
   "name": "conda-env-pth-1.4-py"
  },
  "language_info": {
   "codemirror_mode": {
    "name": "ipython",
    "version": 3
   },
   "file_extension": ".py",
   "mimetype": "text/x-python",
   "name": "python",
   "nbconvert_exporter": "python",
   "pygments_lexer": "ipython3",
   "version": "3.7.0"
  }
 },
 "nbformat": 4,
 "nbformat_minor": 4
}
