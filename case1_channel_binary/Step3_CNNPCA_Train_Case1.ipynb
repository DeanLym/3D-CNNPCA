{
 "cells": [
  {
   "cell_type": "code",
   "execution_count": null,
   "metadata": {},
   "outputs": [],
   "source": [
    "import os\n",
    "os.environ['CUDA_VISIBLE_DEVICES'] = '0'"
   ]
  },
  {
   "cell_type": "code",
   "execution_count": null,
   "metadata": {},
   "outputs": [],
   "source": [
    "# Import standard modules\n",
    "import numpy as np\n",
    "import h5py\n",
    "import os\n",
    "import pickle"
   ]
  },
  {
   "cell_type": "code",
   "execution_count": 3,
   "metadata": {},
   "outputs": [],
   "source": [
    "# Import torch modules\n",
    "import torch\n",
    "from torch import FloatTensor, cat, from_numpy\n",
    "from torch.autograd import Variable\n",
    "from torch.optim import Adam\n",
    "from torchsummary import summary"
   ]
  },
  {
   "cell_type": "code",
   "execution_count": 4,
   "metadata": {},
   "outputs": [],
   "source": [
    "import sys\n",
    "sys.path.append('../src/')"
   ]
  },
  {
   "cell_type": "code",
   "execution_count": 5,
   "metadata": {},
   "outputs": [],
   "source": [
    "# Import transform net\n",
    "from model_transform_net import ModelTransformNet"
   ]
  },
  {
   "cell_type": "code",
   "execution_count": 6,
   "metadata": {},
   "outputs": [],
   "source": [
    "# Import utils function\n",
    "from utils import dot_dict, load_model, gram_matrix"
   ]
  },
  {
   "cell_type": "code",
   "execution_count": 7,
   "metadata": {},
   "outputs": [],
   "source": [
    "# Import C3D model\n",
    "from c3d import C3D, load_c3d_weights"
   ]
  },
  {
   "cell_type": "markdown",
   "metadata": {},
   "source": [
    "#### 1. Specify options"
   ]
  },
  {
   "cell_type": "code",
   "execution_count": 8,
   "metadata": {},
   "outputs": [],
   "source": [
    "device = 'cuda'"
   ]
  },
  {
   "cell_type": "code",
   "execution_count": 9,
   "metadata": {},
   "outputs": [],
   "source": [
    "data_dir = './data/'"
   ]
  },
  {
   "cell_type": "code",
   "execution_count": 10,
   "metadata": {},
   "outputs": [],
   "source": [
    "args = {}\n",
    "args['m_petrel'] = os.path.join(data_dir, 'm_petrel_train3000_case1.h5')  # Petrel training models\n",
    "args['m_pca_rec'] = os.path.join(data_dir, 'm_pca_rec_train3000_case1.h5') # Reconstructed PCA models\n",
    "args['m_pca'] = os.path.join(data_dir, 'm_pca_train3000_case1.h5')         # New PCA models\n",
    "args['hard_data'] = os.path.join(data_dir, 'hard_data_case1.pickle')\n",
    "args['gamma_s'] = 100.0  # weighting factor for style loss\n",
    "args['gamma_r'] = 500.0 # weighting factor for reconstruction loss\n",
    "args['gamma_h'] = 10.0  # weighting factor for hard data loss\n",
    "args['c3d_model'] =  '../src/c3d.pickle'\n",
    "args['epochs'] = 10\n",
    "args['batch_size'] = 8  # reduce batch size if GPU memory overflows\n",
    "args['save_model'] = './weights/fw_weights_case1'\n",
    "args['log_interval'] = 10 \n",
    "args = dot_dict(args)"
   ]
  },
  {
   "cell_type": "markdown",
   "metadata": {},
   "source": [
    "#### 2. Load data"
   ]
  },
  {
   "cell_type": "code",
   "execution_count": 11,
   "metadata": {},
   "outputs": [
    {
     "data": {
      "text/plain": [
       "(3000, 1, 40, 60, 60)"
      ]
     },
     "execution_count": 11,
     "metadata": {},
     "output_type": "execute_result"
    }
   ],
   "source": [
    "# Load m_petrel\n",
    "m_petrel = load_model(args.m_petrel).astype(np.float32)\n",
    "m_petrel = m_petrel.transpose((0, -1, 1,2,3))\n",
    "m_petrel.shape"
   ]
  },
  {
   "cell_type": "code",
   "execution_count": 12,
   "metadata": {},
   "outputs": [
    {
     "data": {
      "text/plain": [
       "(3000, 1, 40, 60, 60)"
      ]
     },
     "execution_count": 12,
     "metadata": {},
     "output_type": "execute_result"
    }
   ],
   "source": [
    "# Load m_pca_rec\n",
    "m_pca_rec = load_model(args.m_pca_rec).astype(np.float32)\n",
    "m_pca_rec = m_pca_rec.transpose((0, -1, 1,2,3))\n",
    "m_pca_rec.shape"
   ]
  },
  {
   "cell_type": "code",
   "execution_count": 13,
   "metadata": {},
   "outputs": [
    {
     "data": {
      "text/plain": [
       "(3000, 1, 40, 60, 60)"
      ]
     },
     "execution_count": 13,
     "metadata": {},
     "output_type": "execute_result"
    }
   ],
   "source": [
    "# Load m_pca\n",
    "m_pca = load_model(args.m_pca).astype(np.float32)\n",
    "m_pca = m_pca.transpose((0, -1, 1,2,3))\n",
    "m_pca.shape"
   ]
  },
  {
   "cell_type": "code",
   "execution_count": 14,
   "metadata": {},
   "outputs": [],
   "source": [
    "# Normalize data\n",
    "max_, min_ = 1., 0.\n",
    "m_petrel = (m_petrel - min_) / (max_ - min_) * 255.\n",
    "m_pca_rec = (m_pca_rec - min_) / (max_ - min_) * 255.\n",
    "m_pca = (m_pca - min_) / (max_ - min_) * 255."
   ]
  },
  {
   "cell_type": "code",
   "execution_count": 15,
   "metadata": {},
   "outputs": [
    {
     "name": "stdout",
     "output_type": "stream",
     "text": [
      "Total number of hard data: 160\n"
     ]
    }
   ],
   "source": [
    "# Load hard data\n",
    "with open(args.hard_data, 'rb') as fid:\n",
    "    well_hd = pickle.load(fid)\n",
    "# Normalize well_hd\n",
    "for wn in well_hd:\n",
    "    well_hd[wn][:, -1] = (well_hd[wn][:,-1] - min_) / (max_ - min_) * 255.\n",
    "# Assemble hard data into one single np.array\n",
    "well_hd_all = np.concatenate(list(well_hd.values()), axis=0)\n",
    "print('Total number of hard data:', well_hd_all.shape[0])"
   ]
  },
  {
   "cell_type": "markdown",
   "metadata": {},
   "source": [
    "#### 3. Construct C3D Net"
   ]
  },
  {
   "cell_type": "code",
   "execution_count": 16,
   "metadata": {},
   "outputs": [
    {
     "data": {
      "text/plain": [
       "C3D(\n",
       "  (conv1): Conv3d(3, 64, kernel_size=(3, 3, 3), stride=(1, 1, 1), padding=(1, 1, 1))\n",
       "  (pool1): MaxPool3d(kernel_size=(1, 2, 2), stride=(1, 2, 2), padding=0, dilation=1, ceil_mode=False)\n",
       "  (conv2): Conv3d(64, 128, kernel_size=(3, 3, 3), stride=(1, 1, 1), padding=(1, 1, 1))\n",
       "  (pool2): MaxPool3d(kernel_size=(2, 2, 2), stride=(2, 2, 2), padding=0, dilation=1, ceil_mode=False)\n",
       "  (conv3a): Conv3d(128, 256, kernel_size=(3, 3, 3), stride=(1, 1, 1), padding=(1, 1, 1))\n",
       "  (conv3b): Conv3d(256, 256, kernel_size=(3, 3, 3), stride=(1, 1, 1), padding=(1, 1, 1))\n",
       "  (pool3): MaxPool3d(kernel_size=(2, 2, 2), stride=(2, 2, 2), padding=0, dilation=1, ceil_mode=False)\n",
       "  (conv4a): Conv3d(256, 512, kernel_size=(3, 3, 3), stride=(1, 1, 1), padding=(1, 1, 1))\n",
       "  (conv4b): Conv3d(512, 512, kernel_size=(3, 3, 3), stride=(1, 1, 1), padding=(1, 1, 1))\n",
       "  (pool4): MaxPool3d(kernel_size=(2, 2, 2), stride=(2, 2, 2), padding=0, dilation=1, ceil_mode=False)\n",
       "  (relu): ReLU()\n",
       "  (softmax): Softmax(dim=None)\n",
       ")"
      ]
     },
     "execution_count": 16,
     "metadata": {},
     "output_type": "execute_result"
    }
   ],
   "source": [
    "c3d = C3D()\n",
    "c3d.load_state_dict(load_c3d_weights(c3d, args.c3d_model))\n",
    "c3d = c3d.to(device)\n",
    "c3d.eval()"
   ]
  },
  {
   "cell_type": "markdown",
   "metadata": {},
   "source": [
    "#### 4. Construct Model Transform Net"
   ]
  },
  {
   "cell_type": "code",
   "execution_count": 17,
   "metadata": {},
   "outputs": [
    {
     "name": "stdout",
     "output_type": "stream",
     "text": [
      "----------------------------------------------------------------\n",
      "        Layer (type)               Output Shape         Param #\n",
      "================================================================\n",
      "      CirularPad3d-1        [-1, 1, 42, 68, 68]               0\n",
      "            Conv3d-2       [-1, 32, 40, 60, 60]           7,808\n",
      "         ConvLayer-3       [-1, 32, 40, 60, 60]               0\n",
      "       BatchNorm3d-4       [-1, 32, 40, 60, 60]              64\n",
      "              ReLU-5       [-1, 32, 40, 60, 60]               0\n",
      "      CirularPad3d-6       [-1, 32, 42, 62, 62]               0\n",
      "            Conv3d-7       [-1, 64, 20, 30, 30]          55,360\n",
      "         ConvLayer-8       [-1, 64, 20, 30, 30]               0\n",
      "       BatchNorm3d-9       [-1, 64, 20, 30, 30]             128\n",
      "             ReLU-10       [-1, 64, 20, 30, 30]               0\n",
      "     CirularPad3d-11       [-1, 64, 22, 32, 32]               0\n",
      "           Conv3d-12      [-1, 128, 20, 15, 15]         221,312\n",
      "        ConvLayer-13      [-1, 128, 20, 15, 15]               0\n",
      "      BatchNorm3d-14      [-1, 128, 20, 15, 15]             256\n",
      "             ReLU-15      [-1, 128, 20, 15, 15]               0\n",
      "     CirularPad3d-16      [-1, 128, 22, 17, 17]               0\n",
      "           Conv3d-17      [-1, 128, 20, 15, 15]         442,496\n",
      "        ConvLayer-18      [-1, 128, 20, 15, 15]               0\n",
      "      BatchNorm3d-19      [-1, 128, 20, 15, 15]             256\n",
      "             ReLU-20      [-1, 128, 20, 15, 15]               0\n",
      "     CirularPad3d-21      [-1, 128, 22, 17, 17]               0\n",
      "           Conv3d-22      [-1, 128, 20, 15, 15]         442,496\n",
      "        ConvLayer-23      [-1, 128, 20, 15, 15]               0\n",
      "      BatchNorm3d-24      [-1, 128, 20, 15, 15]             256\n",
      "    ResidualBlock-25      [-1, 128, 20, 15, 15]               0\n",
      "     CirularPad3d-26      [-1, 128, 22, 17, 17]               0\n",
      "           Conv3d-27      [-1, 128, 20, 15, 15]         442,496\n",
      "        ConvLayer-28      [-1, 128, 20, 15, 15]               0\n",
      "      BatchNorm3d-29      [-1, 128, 20, 15, 15]             256\n",
      "             ReLU-30      [-1, 128, 20, 15, 15]               0\n",
      "     CirularPad3d-31      [-1, 128, 22, 17, 17]               0\n",
      "           Conv3d-32      [-1, 128, 20, 15, 15]         442,496\n",
      "        ConvLayer-33      [-1, 128, 20, 15, 15]               0\n",
      "      BatchNorm3d-34      [-1, 128, 20, 15, 15]             256\n",
      "    ResidualBlock-35      [-1, 128, 20, 15, 15]               0\n",
      "     CirularPad3d-36      [-1, 128, 22, 17, 17]               0\n",
      "           Conv3d-37      [-1, 128, 20, 15, 15]         442,496\n",
      "        ConvLayer-38      [-1, 128, 20, 15, 15]               0\n",
      "      BatchNorm3d-39      [-1, 128, 20, 15, 15]             256\n",
      "             ReLU-40      [-1, 128, 20, 15, 15]               0\n",
      "     CirularPad3d-41      [-1, 128, 22, 17, 17]               0\n",
      "           Conv3d-42      [-1, 128, 20, 15, 15]         442,496\n",
      "        ConvLayer-43      [-1, 128, 20, 15, 15]               0\n",
      "      BatchNorm3d-44      [-1, 128, 20, 15, 15]             256\n",
      "    ResidualBlock-45      [-1, 128, 20, 15, 15]               0\n",
      "     CirularPad3d-46      [-1, 128, 22, 17, 17]               0\n",
      "           Conv3d-47      [-1, 128, 20, 15, 15]         442,496\n",
      "        ConvLayer-48      [-1, 128, 20, 15, 15]               0\n",
      "      BatchNorm3d-49      [-1, 128, 20, 15, 15]             256\n",
      "             ReLU-50      [-1, 128, 20, 15, 15]               0\n",
      "     CirularPad3d-51      [-1, 128, 22, 17, 17]               0\n",
      "           Conv3d-52      [-1, 128, 20, 15, 15]         442,496\n",
      "        ConvLayer-53      [-1, 128, 20, 15, 15]               0\n",
      "      BatchNorm3d-54      [-1, 128, 20, 15, 15]             256\n",
      "    ResidualBlock-55      [-1, 128, 20, 15, 15]               0\n",
      "     CirularPad3d-56      [-1, 128, 22, 17, 17]               0\n",
      "           Conv3d-57      [-1, 128, 20, 15, 15]         442,496\n",
      "        ConvLayer-58      [-1, 128, 20, 15, 15]               0\n",
      "      BatchNorm3d-59      [-1, 128, 20, 15, 15]             256\n",
      "             ReLU-60      [-1, 128, 20, 15, 15]               0\n",
      "     CirularPad3d-61      [-1, 128, 22, 17, 17]               0\n",
      "           Conv3d-62      [-1, 128, 20, 15, 15]         442,496\n",
      "        ConvLayer-63      [-1, 128, 20, 15, 15]               0\n",
      "      BatchNorm3d-64      [-1, 128, 20, 15, 15]             256\n",
      "    ResidualBlock-65      [-1, 128, 20, 15, 15]               0\n",
      "         Upsample-66      [-1, 128, 20, 30, 30]               0\n",
      "     CirularPad3d-67      [-1, 128, 22, 32, 32]               0\n",
      "           Conv3d-68       [-1, 64, 20, 30, 30]         221,248\n",
      "UpsampleConvLayer-69       [-1, 64, 20, 30, 30]               0\n",
      "      BatchNorm3d-70       [-1, 64, 20, 30, 30]             128\n",
      "             ReLU-71       [-1, 64, 20, 30, 30]               0\n",
      "         Upsample-72       [-1, 64, 40, 60, 60]               0\n",
      "     CirularPad3d-73       [-1, 64, 42, 62, 62]               0\n",
      "           Conv3d-74       [-1, 32, 40, 60, 60]          55,328\n",
      "UpsampleConvLayer-75       [-1, 32, 40, 60, 60]               0\n",
      "      BatchNorm3d-76       [-1, 32, 40, 60, 60]              64\n",
      "             ReLU-77       [-1, 32, 40, 60, 60]               0\n",
      "     CirularPad3d-78       [-1, 32, 42, 68, 68]               0\n",
      "           Conv3d-79        [-1, 1, 40, 60, 60]           7,777\n",
      "        ConvLayer-80        [-1, 1, 40, 60, 60]               0\n",
      "================================================================\n",
      "Total params: 4,996,993\n",
      "Trainable params: 4,996,993\n",
      "Non-trainable params: 0\n",
      "----------------------------------------------------------------\n",
      "Input size (MB): 0.55\n",
      "Forward/backward pass size (MB): 897.24\n",
      "Params size (MB): 19.06\n",
      "Estimated Total Size (MB): 916.85\n",
      "----------------------------------------------------------------\n"
     ]
    }
   ],
   "source": [
    "trans_net = ModelTransformNet()\n",
    "trans_net = trans_net.to(device)\n",
    "summary(trans_net, input_size=(1, 40, 60, 60), device=device)"
   ]
  },
  {
   "cell_type": "markdown",
   "metadata": {},
   "source": [
    "#### 6. Training"
   ]
  },
  {
   "cell_type": "code",
   "execution_count": 18,
   "metadata": {},
   "outputs": [],
   "source": [
    "optimizer = Adam(trans_net.parameters())\n",
    "mae_loss = torch.nn.L1Loss()"
   ]
  },
  {
   "cell_type": "code",
   "execution_count": 19,
   "metadata": {},
   "outputs": [
    {
     "data": {
      "text/plain": [
       "750"
      ]
     },
     "execution_count": 19,
     "metadata": {},
     "output_type": "execute_result"
    }
   ],
   "source": [
    "num_model = m_petrel.shape[0]\n",
    "num_batch = num_model // args.batch_size if num_model % args.batch_size == 0 else num_model // args.batch_size + 1\n",
    "num_batch"
   ]
  },
  {
   "cell_type": "code",
   "execution_count": 20,
   "metadata": {},
   "outputs": [],
   "source": [
    "def compute_hd_loss(y_pred, well_hd_all):\n",
    "    ix = list(well_hd_all[:,0].astype('int'))\n",
    "    iy = list(well_hd_all[:,1].astype('int'))\n",
    "    iz = list(well_hd_all[:,2].astype('int'))\n",
    "    v = Variable(torch.from_numpy(well_hd_all[:, -1]).float()).to(device)\n",
    "    hd_loss = mae_loss(y_pred[:,0,iz,iy,ix], v)\n",
    "    return hd_loss"
   ]
  },
  {
   "cell_type": "code",
   "execution_count": null,
   "metadata": {},
   "outputs": [],
   "source": [
    "for e in range(args.epochs):\n",
    "    trans_net.train()\n",
    "\n",
    "    for ib in range(num_batch):\n",
    "        optimizer.zero_grad()\n",
    "        \n",
    "        ind0, ind1 = ib * args.batch_size, min((ib+1) * args.batch_size, num_model)\n",
    "        \n",
    "        # convert data to Variable\n",
    "        m_petrel_var = Variable(torch.from_numpy(m_petrel[ind0:ind1, ...]).float()).to(device)\n",
    "        m_pca_rec_var = Variable(torch.from_numpy(m_pca_rec[ind0:ind1, ...]).float()).to(device)\n",
    "        m_pca_var = Variable(torch.from_numpy(m_pca[ind0:ind1, ...]).float()).to(device)\n",
    "        \n",
    "        # transform pca models with model_transform_net (fw)\n",
    "        fw_m_pca_var = trans_net(m_pca_var)\n",
    "        fw_m_pca_rec_var = trans_net(m_pca_rec_var)\n",
    "        \n",
    "        # compute reconstruction loss\n",
    "        rec_loss = args.gamma_r * mae_loss(fw_m_pca_rec_var, m_petrel_var)\n",
    "        \n",
    "        # compute hard data loss\n",
    "        hd_loss1 = args.gamma_h * compute_hd_loss(fw_m_pca_rec_var, well_hd_all)\n",
    "        hd_loss2 = args.gamma_h * compute_hd_loss(fw_m_pca_rec_var, well_hd_all)\n",
    "        \n",
    "        # compute style loss\n",
    "        \n",
    "        features_m_petrel = c3d(m_petrel_var.repeat(1, 3, 1, 1, 1))\n",
    "        features_fw_m_pca = c3d(fw_m_pca_var.repeat(1, 3, 1, 1, 1))\n",
    "        \n",
    "        style_loss = 0.\n",
    "        for m in range(len(features_fw_m_pca)):\n",
    "            gram_m_petrel = gram_matrix(features_m_petrel[m])\n",
    "            gram_fw_m_pca = gram_matrix(features_fw_m_pca[m])\n",
    "            \n",
    "            style_loss += args.gamma_s * mae_loss(gram_m_petrel, gram_fw_m_pca)\n",
    "\n",
    "        # Compute hard data loss\n",
    "        total_loss = rec_loss + style_loss + hd_loss1 + hd_loss2\n",
    "        total_loss.backward()\n",
    "        optimizer.step()\n",
    "        #\n",
    "        if ib % args.log_interval == 0:\n",
    "            print('Epoch{}, Batch {}/{}, Rec Loss {}, Style Loss {}, Hd Loss {}'\n",
    "                  .format(e+1, ib+1, num_batch, rec_loss.item(), style_loss.item(), hd_loss1.item() + hd_loss2.item()))    \n",
    "    print('')\n",
    "    torch.save(trans_net.state_dict(), args.save_model + '_sw%.1f_rw%.1f_hw%.1f_%dep.pth' \n",
    "               % (args.gamma_s, args.gamma_r, args.gamma_h, e))"
   ]
  },
  {
   "cell_type": "code",
   "execution_count": 23,
   "metadata": {},
   "outputs": [],
   "source": [
    "exit()"
   ]
  }
 ],
 "metadata": {
  "kernelspec": {
   "display_name": "Python 3",
   "language": "python",
   "name": "python3"
  },
  "language_info": {
   "codemirror_mode": {
    "name": "ipython",
    "version": 3
   },
   "file_extension": ".py",
   "mimetype": "text/x-python",
   "name": "python",
   "nbconvert_exporter": "python",
   "pygments_lexer": "ipython3",
   "version": "3.7.3"
  }
 },
 "nbformat": 4,
 "nbformat_minor": 4
}
