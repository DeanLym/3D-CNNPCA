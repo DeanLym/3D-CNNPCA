{
 "cells": [
  {
   "cell_type": "code",
   "execution_count": 6,
   "metadata": {},
   "outputs": [],
   "source": [
    "import numpy as np\n",
    "import h5py\n",
    "import pickle\n",
    "import os"
   ]
  },
  {
   "cell_type": "code",
   "execution_count": 3,
   "metadata": {},
   "outputs": [],
   "source": [
    "import sys\n",
    "sys.path.append('../src/')"
   ]
  },
  {
   "cell_type": "code",
   "execution_count": 4,
   "metadata": {},
   "outputs": [],
   "source": [
    "# Import utils function\n",
    "from utils import load_model, dot_dict"
   ]
  },
  {
   "cell_type": "code",
   "execution_count": 8,
   "metadata": {},
   "outputs": [],
   "source": [
    "data_dir = './data'"
   ]
  },
  {
   "cell_type": "code",
   "execution_count": 9,
   "metadata": {},
   "outputs": [],
   "source": [
    "args = {}\n",
    "args['m_petrel'] = os.path.join(data_dir, 'm_petrel_train3000_case1.h5')  # Petrel training models\n",
    "args = dot_dict(args)"
   ]
  },
  {
   "cell_type": "code",
   "execution_count": 11,
   "metadata": {},
   "outputs": [
    {
     "data": {
      "text/plain": [
       "(3000, 40, 60, 60, 1)"
      ]
     },
     "execution_count": 11,
     "metadata": {},
     "output_type": "execute_result"
    }
   ],
   "source": [
    "# Load m_petrel\n",
    "m_petrel = load_model(args.m_petrel).astype(np.float32)\n",
    "m_petrel.shape"
   ]
  },
  {
   "cell_type": "code",
   "execution_count": 10,
   "metadata": {},
   "outputs": [],
   "source": [
    "# Define well locations\n",
    "well_loc = {}\n",
    "well_loc['I1'] = (15, 2)\n",
    "well_loc['I2'] = (45, 3)\n",
    "well_loc['P1'] = (15, 57)\n",
    "well_loc['P2'] = (45, 58)"
   ]
  },
  {
   "cell_type": "code",
   "execution_count": 13,
   "metadata": {},
   "outputs": [],
   "source": [
    "well_hd_all = {}\n",
    "nz = 40\n",
    "for wn, (ix, iy) in well_loc.items():\n",
    "    well_hd_all[wn] = []\n",
    "    ix -= 1\n",
    "    iy -= 1\n",
    "    for iz in range(nz):\n",
    "        well_hd_all[wn].append((ix, iy, iz, m_petrel[0, iz, iy, ix, 0]))\n",
    "# Convert to np.array\n",
    "for wn, hd in well_hd_all.items():\n",
    "    well_hd_all[wn] = np.array(hd)"
   ]
  },
  {
   "cell_type": "code",
   "execution_count": 14,
   "metadata": {},
   "outputs": [],
   "source": [
    "with open(os.path.join(data_dir, 'hard_data_case1.pickle'), 'wb') as fid:\n",
    "    pickle.dump(well_hd_all, fid)"
   ]
  }
 ],
 "metadata": {
  "kernelspec": {
   "display_name": "Python 3",
   "language": "python",
   "name": "python3"
  },
  "language_info": {
   "codemirror_mode": {
    "name": "ipython",
    "version": 3
   },
   "file_extension": ".py",
   "mimetype": "text/x-python",
   "name": "python",
   "nbconvert_exporter": "python",
   "pygments_lexer": "ipython3",
   "version": "3.7.3"
  }
 },
 "nbformat": 4,
 "nbformat_minor": 4
}
