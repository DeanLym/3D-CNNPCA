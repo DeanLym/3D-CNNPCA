{
 "cells": [
  {
   "cell_type": "code",
   "execution_count": 1,
   "metadata": {},
   "outputs": [],
   "source": [
    "%load_ext autoreload\n",
    "%autoreload 2"
   ]
  },
  {
   "cell_type": "code",
   "execution_count": 2,
   "metadata": {},
   "outputs": [],
   "source": [
    "import os\n",
    "os.environ['CUDA_VISIBLE_DEVICES'] = '3'"
   ]
  },
  {
   "cell_type": "code",
   "execution_count": 3,
   "metadata": {},
   "outputs": [
    {
     "data": {
      "text/plain": [
       "<Figure size 432x288 with 0 Axes>"
      ]
     },
     "metadata": {},
     "output_type": "display_data"
    }
   ],
   "source": [
    "# Import standard modules\n",
    "import numpy as np\n",
    "import h5py\n",
    "import matplotlib.pyplot as plt\n",
    "plt.set_cmap('jet')\n",
    "import os\n",
    "import pickle"
   ]
  },
  {
   "cell_type": "code",
   "execution_count": 4,
   "metadata": {},
   "outputs": [],
   "source": [
    "# Import torch modules\n",
    "import torch\n",
    "from torch import FloatTensor, cat, from_numpy\n",
    "from torch.autograd import Variable\n",
    "from torch.optim import Adam\n",
    "from torchsummary import summary"
   ]
  },
  {
   "cell_type": "code",
   "execution_count": 5,
   "metadata": {},
   "outputs": [],
   "source": [
    "import sys\n",
    "sys.path.append('/data3/Astro/personal/yiminliu/cnnpca3d/')"
   ]
  },
  {
   "cell_type": "code",
   "execution_count": 6,
   "metadata": {},
   "outputs": [],
   "source": [
    "# Import transform net\n",
    "from transformer_net import TransformerNet"
   ]
  },
  {
   "cell_type": "code",
   "execution_count": 7,
   "metadata": {},
   "outputs": [],
   "source": [
    "# Import utils function\n",
    "from utils import dot_dict, load_model, parse_content_style_size, gram_matrix"
   ]
  },
  {
   "cell_type": "code",
   "execution_count": 8,
   "metadata": {},
   "outputs": [],
   "source": [
    "# Import C3D model\n",
    "from C3D_model import C3D, load_c3d_weights"
   ]
  },
  {
   "cell_type": "markdown",
   "metadata": {},
   "source": [
    "#### 1. Specify options"
   ]
  },
  {
   "cell_type": "code",
   "execution_count": 9,
   "metadata": {},
   "outputs": [],
   "source": [
    "device = 'cuda'"
   ]
  },
  {
   "cell_type": "code",
   "execution_count": 10,
   "metadata": {},
   "outputs": [],
   "source": [
    "data_dir = '/data3/Astro/personal/yiminliu/models/3d_chan_60x60x40_cond4wfar_wellsonly/'"
   ]
  },
  {
   "cell_type": "code",
   "execution_count": 11,
   "metadata": {},
   "outputs": [],
   "source": [
    "args = {}\n",
    "args['content_size'] = '40, 60, 60'\n",
    "args['style_size'] = '40, 60, 60'\n",
    "args['pca_model'] = os.path.join(data_dir, 'mpca_train3000_chan_bimodal_wellsonly_60x60x40_cond4wfar_l600.h5')\n",
    "args['petrel_model'] = os.path.join(data_dir, 'bimodal_chan_less_3d_60by60by40_4wellfar_cond_train3000.h5')\n",
    "args['rec_model'] = os.path.join(data_dir, 'mpca_rec3000_60x60x40_chan_bimodal_wellsonly_cond4wfar_l200_ptb50_std1.5.h5')\n",
    "args['style_weight'] = 100.0\n",
    "args['rec_weight'] = 500.0\n",
    "args['epochs'] = 10\n",
    "args['save_model'] = './saved_models/cnnpca_chan_less_bimodal_60x60x40_cond4wfar_ptb50_std1.5_l200'\n",
    "args['log_interval'] = 10\n",
    "args['batch_size'] = 8\n",
    "args['c3d_model'] = '/data3/Astro/personal/yiminliu/cnnpca3d/c3d.pickle'\n",
    "args['hd_weight'] = 1000.0\n",
    "args['hd_file'] = os.path.join(data_dir, 'well_hd_bimodal.pickle')\n",
    "args = dot_dict(args)"
   ]
  },
  {
   "cell_type": "markdown",
   "metadata": {},
   "source": [
    "#### 2. Load data"
   ]
  },
  {
   "cell_type": "code",
   "execution_count": 12,
   "metadata": {},
   "outputs": [
    {
     "name": "stdout",
     "output_type": "stream",
     "text": [
      "content size: [40, 60, 60]\n",
      "style size: [40, 60, 60]\n"
     ]
    }
   ],
   "source": [
    "args = parse_content_style_size(args)\n",
    "content_size = args.content_size\n",
    "style_size = args.style_size\n",
    "print('content size:', content_size)\n",
    "print('style size:', style_size)"
   ]
  },
  {
   "cell_type": "code",
   "execution_count": 13,
   "metadata": {},
   "outputs": [
    {
     "name": "stdout",
     "output_type": "stream",
     "text": [
      "14.4296875 -3.203125\n"
     ]
    },
    {
     "data": {
      "text/plain": [
       "(3000, 1, 40, 60, 60)"
      ]
     },
     "execution_count": 13,
     "metadata": {},
     "output_type": "execute_result"
    }
   ],
   "source": [
    "# Load content model\n",
    "m_pca =load_model(args.pca_model).astype(np.float32)\n",
    "print(m_pca.max(), m_pca.min())\n",
    "num_model = m_pca.shape[0]\n",
    "m_pca = m_pca.reshape((num_model,1) + tuple(content_size))\n",
    "m_pca.shape"
   ]
  },
  {
   "cell_type": "code",
   "execution_count": 14,
   "metadata": {},
   "outputs": [
    {
     "data": {
      "text/plain": [
       "(3000, 1, 40, 60, 60)"
      ]
     },
     "execution_count": 14,
     "metadata": {},
     "output_type": "execute_result"
    }
   ],
   "source": [
    "# Load petrel generated data\n",
    "fid = h5py.File(args.petrel_model, 'r')\n",
    "m_cond = np.array(fid['data'])\n",
    "fid.close()\n",
    "m_cond = m_cond.transpose((0, -1, 1,2,3))\n",
    "m_cond.shape"
   ]
  },
  {
   "cell_type": "code",
   "execution_count": 15,
   "metadata": {},
   "outputs": [
    {
     "data": {
      "text/plain": [
       "(3000, 1, 40, 60, 60)"
      ]
     },
     "execution_count": 15,
     "metadata": {},
     "output_type": "execute_result"
    }
   ],
   "source": [
    "fid = h5py.File(args.rec_model, 'r')\n",
    "m_rec = np.array(fid['data'])\n",
    "fid.close()\n",
    "m_rec = m_rec.transpose((0, -1, 1,2,3))\n",
    "m_rec.shape"
   ]
  },
  {
   "cell_type": "code",
   "execution_count": 16,
   "metadata": {},
   "outputs": [
    {
     "name": "stdout",
     "output_type": "stream",
     "text": [
      "15.44 -4.184\n"
     ]
    }
   ],
   "source": [
    "print(m_rec.max(), m_rec.min())"
   ]
  },
  {
   "cell_type": "code",
   "execution_count": 17,
   "metadata": {},
   "outputs": [
    {
     "name": "stdout",
     "output_type": "stream",
     "text": [
      "8.57 2.205\n"
     ]
    }
   ],
   "source": [
    "print(m_cond.max(), m_cond.min())"
   ]
  },
  {
   "cell_type": "code",
   "execution_count": 18,
   "metadata": {},
   "outputs": [
    {
     "data": {
      "image/png": "[encoded data removed]",
      "text/plain": [
       "<Figure size 432x288 with 4 Axes>"
      ]
     },
     "metadata": {
      "needs_background": "light"
     },
     "output_type": "display_data"
    },
    {
     "data": {
      "image/png": "[encoded data removed]",
      "text/plain": [
       "<Figure size 432x288 with 4 Axes>"
      ]
     },
     "metadata": {
      "needs_background": "light"
     },
     "output_type": "display_data"
    }
   ],
   "source": [
    "for k in range(2):\n",
    "    plt.subplot(1,2,1)\n",
    "    plt.imshow(m_pca[k, 0, 0, :, :])\n",
    "    plt.colorbar(fraction=0.046)\n",
    "    plt.subplot(1,2,2)\n",
    "    plt.imshow(m_pca[k, 0, :, :, 0])\n",
    "    plt.colorbar(fraction=0.046)\n",
    "    plt.show()"
   ]
  },
  {
   "cell_type": "code",
   "execution_count": 19,
   "metadata": {},
   "outputs": [
    {
     "name": "stdout",
     "output_type": "stream",
     "text": [
      "528.2617 -221.13281\n"
     ]
    }
   ],
   "source": [
    "# Normalize data\n",
    "max_, min_ = 8., 2.\n",
    "m_pca = (m_pca - min_) / (max_ - min_) * 255.\n",
    "print(m_pca.max(), m_pca.min())"
   ]
  },
  {
   "cell_type": "code",
   "execution_count": 20,
   "metadata": {},
   "outputs": [
    {
     "name": "stdout",
     "output_type": "stream",
     "text": [
      "279.2 8.72\n"
     ]
    }
   ],
   "source": [
    "m_cond = ((m_cond - min_) / (max_ - min_)) * 255.\n",
    "print(m_cond.max(), m_cond.min())"
   ]
  },
  {
   "cell_type": "code",
   "execution_count": 21,
   "metadata": {},
   "outputs": [
    {
     "name": "stdout",
     "output_type": "stream",
     "text": [
      "571.5 -262.8\n"
     ]
    }
   ],
   "source": [
    "m_rec = ((m_rec - min_) / (max_ - min_)) * 255.\n",
    "print(m_rec.max(), m_rec.min())"
   ]
  },
  {
   "cell_type": "code",
   "execution_count": 22,
   "metadata": {},
   "outputs": [
    {
     "name": "stdout",
     "output_type": "stream",
     "text": [
      "Total number of hard data: 160\n"
     ]
    }
   ],
   "source": [
    "# Load hard data\n",
    "with open(args.hd_file, 'rb') as fid:\n",
    "    well_hd = pickle.load(fid)\n",
    "# Normalize well_hd\n",
    "for wn in well_hd:\n",
    "    well_hd[wn][:, -1] = (well_hd[wn][:,-1] - min_) / (max_ - min_) * 255.\n",
    "# Assemble hard data into one single np.array\n",
    "well_hd_all = np.concatenate(list(well_hd.values()), axis=0)\n",
    "print('Total number of hard data:', well_hd_all.shape[0])"
   ]
  },
  {
   "cell_type": "markdown",
   "metadata": {},
   "source": [
    "#### 3. Construct C3D Net"
   ]
  },
  {
   "cell_type": "code",
   "execution_count": 23,
   "metadata": {},
   "outputs": [
    {
     "data": {
      "text/plain": [
       "C3D(\n",
       "  (conv1): Conv3d(3, 64, kernel_size=(3, 3, 3), stride=(1, 1, 1), padding=(1, 1, 1))\n",
       "  (pool1): MaxPool3d(kernel_size=(1, 2, 2), stride=(1, 2, 2), padding=0, dilation=1, ceil_mode=False)\n",
       "  (conv2): Conv3d(64, 128, kernel_size=(3, 3, 3), stride=(1, 1, 1), padding=(1, 1, 1))\n",
       "  (pool2): MaxPool3d(kernel_size=(2, 2, 2), stride=(2, 2, 2), padding=0, dilation=1, ceil_mode=False)\n",
       "  (conv3a): Conv3d(128, 256, kernel_size=(3, 3, 3), stride=(1, 1, 1), padding=(1, 1, 1))\n",
       "  (conv3b): Conv3d(256, 256, kernel_size=(3, 3, 3), stride=(1, 1, 1), padding=(1, 1, 1))\n",
       "  (pool3): MaxPool3d(kernel_size=(2, 2, 2), stride=(2, 2, 2), padding=0, dilation=1, ceil_mode=False)\n",
       "  (conv4a): Conv3d(256, 512, kernel_size=(3, 3, 3), stride=(1, 1, 1), padding=(1, 1, 1))\n",
       "  (conv4b): Conv3d(512, 512, kernel_size=(3, 3, 3), stride=(1, 1, 1), padding=(1, 1, 1))\n",
       "  (pool4): MaxPool3d(kernel_size=(2, 2, 2), stride=(2, 2, 2), padding=0, dilation=1, ceil_mode=False)\n",
       "  (relu): ReLU()\n",
       "  (softmax): Softmax(dim=None)\n",
       ")"
      ]
     },
     "execution_count": 23,
     "metadata": {},
     "output_type": "execute_result"
    }
   ],
   "source": [
    "c3d = C3D()\n",
    "c3d.load_state_dict(load_c3d_weights(c3d, args.c3d_model))\n",
    "c3d = c3d.to(device)\n",
    "c3d.eval()"
   ]
  },
  {
   "cell_type": "markdown",
   "metadata": {},
   "source": [
    "#### 4. Construct Transform Net"
   ]
  },
  {
   "cell_type": "code",
   "execution_count": 24,
   "metadata": {},
   "outputs": [
    {
     "name": "stdout",
     "output_type": "stream",
     "text": [
      "----------------------------------------------------------------\n",
      "        Layer (type)               Output Shape         Param #\n",
      "================================================================\n",
      "      CirularPad3d-1        [-1, 1, 42, 68, 68]               0\n",
      "            Conv3d-2       [-1, 32, 40, 60, 60]           7,808\n",
      "         ConvLayer-3       [-1, 32, 40, 60, 60]               0\n",
      "       BatchNorm3d-4       [-1, 32, 40, 60, 60]              64\n",
      "              ReLU-5       [-1, 32, 40, 60, 60]               0\n",
      "      CirularPad3d-6       [-1, 32, 42, 62, 62]               0\n",
      "            Conv3d-7       [-1, 64, 20, 30, 30]          55,360\n",
      "         ConvLayer-8       [-1, 64, 20, 30, 30]               0\n",
      "       BatchNorm3d-9       [-1, 64, 20, 30, 30]             128\n",
      "             ReLU-10       [-1, 64, 20, 30, 30]               0\n",
      "     CirularPad3d-11       [-1, 64, 22, 32, 32]               0\n",
      "           Conv3d-12      [-1, 128, 20, 15, 15]         221,312\n",
      "        ConvLayer-13      [-1, 128, 20, 15, 15]               0\n",
      "      BatchNorm3d-14      [-1, 128, 20, 15, 15]             256\n",
      "             ReLU-15      [-1, 128, 20, 15, 15]               0\n",
      "     CirularPad3d-16      [-1, 128, 22, 17, 17]               0\n",
      "           Conv3d-17      [-1, 128, 20, 15, 15]         442,496\n",
      "        ConvLayer-18      [-1, 128, 20, 15, 15]               0\n",
      "      BatchNorm3d-19      [-1, 128, 20, 15, 15]             256\n",
      "             ReLU-20      [-1, 128, 20, 15, 15]               0\n",
      "     CirularPad3d-21      [-1, 128, 22, 17, 17]               0\n",
      "           Conv3d-22      [-1, 128, 20, 15, 15]         442,496\n",
      "        ConvLayer-23      [-1, 128, 20, 15, 15]               0\n",
      "      BatchNorm3d-24      [-1, 128, 20, 15, 15]             256\n",
      "    ResidualBlock-25      [-1, 128, 20, 15, 15]               0\n",
      "     CirularPad3d-26      [-1, 128, 22, 17, 17]               0\n",
      "           Conv3d-27      [-1, 128, 20, 15, 15]         442,496\n",
      "        ConvLayer-28      [-1, 128, 20, 15, 15]               0\n",
      "      BatchNorm3d-29      [-1, 128, 20, 15, 15]             256\n",
      "             ReLU-30      [-1, 128, 20, 15, 15]               0\n",
      "     CirularPad3d-31      [-1, 128, 22, 17, 17]               0\n",
      "           Conv3d-32      [-1, 128, 20, 15, 15]         442,496\n",
      "        ConvLayer-33      [-1, 128, 20, 15, 15]               0\n",
      "      BatchNorm3d-34      [-1, 128, 20, 15, 15]             256\n",
      "    ResidualBlock-35      [-1, 128, 20, 15, 15]               0\n",
      "     CirularPad3d-36      [-1, 128, 22, 17, 17]               0\n",
      "           Conv3d-37      [-1, 128, 20, 15, 15]         442,496\n",
      "        ConvLayer-38      [-1, 128, 20, 15, 15]               0\n",
      "      BatchNorm3d-39      [-1, 128, 20, 15, 15]             256\n",
      "             ReLU-40      [-1, 128, 20, 15, 15]               0\n",
      "     CirularPad3d-41      [-1, 128, 22, 17, 17]               0\n",
      "           Conv3d-42      [-1, 128, 20, 15, 15]         442,496\n",
      "        ConvLayer-43      [-1, 128, 20, 15, 15]               0\n",
      "      BatchNorm3d-44      [-1, 128, 20, 15, 15]             256\n",
      "    ResidualBlock-45      [-1, 128, 20, 15, 15]               0\n",
      "     CirularPad3d-46      [-1, 128, 22, 17, 17]               0\n",
      "           Conv3d-47      [-1, 128, 20, 15, 15]         442,496\n",
      "        ConvLayer-48      [-1, 128, 20, 15, 15]               0\n",
      "      BatchNorm3d-49      [-1, 128, 20, 15, 15]             256\n",
      "             ReLU-50      [-1, 128, 20, 15, 15]               0\n",
      "     CirularPad3d-51      [-1, 128, 22, 17, 17]               0\n",
      "           Conv3d-52      [-1, 128, 20, 15, 15]         442,496\n",
      "        ConvLayer-53      [-1, 128, 20, 15, 15]               0\n",
      "      BatchNorm3d-54      [-1, 128, 20, 15, 15]             256\n",
      "    ResidualBlock-55      [-1, 128, 20, 15, 15]               0\n",
      "     CirularPad3d-56      [-1, 128, 22, 17, 17]               0\n",
      "           Conv3d-57      [-1, 128, 20, 15, 15]         442,496\n",
      "        ConvLayer-58      [-1, 128, 20, 15, 15]               0\n",
      "      BatchNorm3d-59      [-1, 128, 20, 15, 15]             256\n",
      "             ReLU-60      [-1, 128, 20, 15, 15]               0\n",
      "     CirularPad3d-61      [-1, 128, 22, 17, 17]               0\n",
      "           Conv3d-62      [-1, 128, 20, 15, 15]         442,496\n",
      "        ConvLayer-63      [-1, 128, 20, 15, 15]               0\n",
      "      BatchNorm3d-64      [-1, 128, 20, 15, 15]             256\n",
      "    ResidualBlock-65      [-1, 128, 20, 15, 15]               0\n",
      "         Upsample-66      [-1, 128, 20, 30, 30]               0\n",
      "     CirularPad3d-67      [-1, 128, 22, 32, 32]               0\n",
      "           Conv3d-68       [-1, 64, 20, 30, 30]         221,248\n",
      "UpsampleConvLayer-69       [-1, 64, 20, 30, 30]               0\n",
      "      BatchNorm3d-70       [-1, 64, 20, 30, 30]             128\n",
      "             ReLU-71       [-1, 64, 20, 30, 30]               0\n",
      "         Upsample-72       [-1, 64, 40, 60, 60]               0\n",
      "     CirularPad3d-73       [-1, 64, 42, 62, 62]               0\n",
      "           Conv3d-74       [-1, 32, 40, 60, 60]          55,328\n",
      "UpsampleConvLayer-75       [-1, 32, 40, 60, 60]               0\n",
      "      BatchNorm3d-76       [-1, 32, 40, 60, 60]              64\n",
      "             ReLU-77       [-1, 32, 40, 60, 60]               0\n",
      "     CirularPad3d-78       [-1, 32, 42, 68, 68]               0\n",
      "           Conv3d-79        [-1, 1, 40, 60, 60]           7,777\n",
      "        ConvLayer-80        [-1, 1, 40, 60, 60]               0\n",
      "================================================================\n",
      "Total params: 4,996,993\n",
      "Trainable params: 4,996,993\n",
      "Non-trainable params: 0\n",
      "----------------------------------------------------------------\n",
      "Input size (MB): 0.55\n",
      "Forward/backward pass size (MB): 897.24\n",
      "Params size (MB): 19.06\n",
      "Estimated Total Size (MB): 916.85\n",
      "----------------------------------------------------------------\n"
     ]
    }
   ],
   "source": [
    "transformer = TransformerNet()\n",
    "transformer = transformer.to(device)\n",
    "summary(transformer, input_size=(1,40, 60, 60))"
   ]
  },
  {
   "cell_type": "markdown",
   "metadata": {},
   "source": [
    "#### 6. Training"
   ]
  },
  {
   "cell_type": "code",
   "execution_count": 25,
   "metadata": {},
   "outputs": [],
   "source": [
    "optimizer = Adam(transformer.parameters())\n",
    "mse_loss = torch.nn.MSELoss()\n",
    "mae_loss = torch.nn.L1Loss()"
   ]
  },
  {
   "cell_type": "code",
   "execution_count": 26,
   "metadata": {},
   "outputs": [
    {
     "data": {
      "text/plain": [
       "375"
      ]
     },
     "execution_count": 26,
     "metadata": {},
     "output_type": "execute_result"
    }
   ],
   "source": [
    "num_batch = num_model // args.batch_size if num_model % args.batch_size == 0 else num_model // args.batch_size + 1\n",
    "num_batch"
   ]
  },
  {
   "cell_type": "code",
   "execution_count": 27,
   "metadata": {},
   "outputs": [],
   "source": [
    "def compute_hd_loss(y_pred, well_hd_all):\n",
    "    ix = list(well_hd_all[:,0].astype('int'))\n",
    "    iy = list(well_hd_all[:,1].astype('int'))\n",
    "    iz = list(well_hd_all[:,2].astype('int'))\n",
    "    v = Variable(torch.from_numpy(well_hd_all[:, -1]).float()).to(device)\n",
    "    hd_loss = mae_loss(y_pred[:,0,iz,iy,ix], v)\n",
    "    return hd_loss"
   ]
  },
  {
   "cell_type": "code",
   "execution_count": null,
   "metadata": {},
   "outputs": [
    {
     "name": "stderr",
     "output_type": "stream",
     "text": [
      "/data3/Astro/global/miniconda3/envs/pth-1.4/lib/python3.7/site-packages/torch/nn/modules/loss.py:88: UserWarning: Using a target size (torch.Size([160])) that is different to the input size (torch.Size([8, 160])). This will likely lead to incorrect results due to broadcasting. Please ensure they have the same size.\n",
      "  return F.l1_loss(input, target, reduction=self.reduction)\n"
     ]
    },
    {
     "name": "stdout",
     "output_type": "stream",
     "text": [
      "Epoch1, Batch 1/375, Rec Loss 37285.44140625, Style Loss 825.497314453125, Hd Loss 182888.2265625\n",
      "Epoch1, Batch 11/375, Rec Loss 25593.318359375, Style Loss 679.9013671875, Hd Loss 69271.1328125\n",
      "Epoch1, Batch 21/375, Rec Loss 20403.529296875, Style Loss 719.32177734375, Hd Loss 57304.787109375\n",
      "Epoch1, Batch 31/375, Rec Loss 16393.763671875, Style Loss 658.0626220703125, Hd Loss 47206.890625\n",
      "Epoch1, Batch 41/375, Rec Loss 15825.1220703125, Style Loss 688.5811767578125, Hd Loss 43409.28515625\n",
      "Epoch1, Batch 51/375, Rec Loss 13255.4970703125, Style Loss 712.06591796875, Hd Loss 43062.787109375\n",
      "Epoch1, Batch 61/375, Rec Loss 12531.0048828125, Style Loss 672.2738647460938, Hd Loss 39137.642578125\n",
      "Epoch1, Batch 71/375, Rec Loss 11704.8095703125, Style Loss 680.3250732421875, Hd Loss 34423.0263671875\n",
      "Epoch1, Batch 81/375, Rec Loss 11429.15625, Style Loss 633.2227172851562, Hd Loss 30782.30859375\n",
      "Epoch1, Batch 91/375, Rec Loss 11022.400390625, Style Loss 620.3323364257812, Hd Loss 26763.6416015625\n",
      "Epoch1, Batch 101/375, Rec Loss 11137.1025390625, Style Loss 680.0836181640625, Hd Loss 26045.400390625\n",
      "Epoch1, Batch 111/375, Rec Loss 11206.2099609375, Style Loss 633.7029418945312, Hd Loss 25418.115234375\n",
      "Epoch1, Batch 121/375, Rec Loss 10867.3896484375, Style Loss 612.5625610351562, Hd Loss 21050.5400390625\n",
      "Epoch1, Batch 131/375, Rec Loss 10975.0908203125, Style Loss 661.1697387695312, Hd Loss 20320.6162109375\n",
      "Epoch1, Batch 141/375, Rec Loss 10996.09375, Style Loss 694.954345703125, Hd Loss 17999.1533203125\n",
      "Epoch1, Batch 151/375, Rec Loss 10859.8857421875, Style Loss 641.77392578125, Hd Loss 16469.25927734375\n",
      "Epoch1, Batch 161/375, Rec Loss 10498.1826171875, Style Loss 608.0532836914062, Hd Loss 17528.884765625\n",
      "Epoch1, Batch 171/375, Rec Loss 10629.9130859375, Style Loss 654.1361083984375, Hd Loss 14669.806640625\n",
      "Epoch1, Batch 181/375, Rec Loss 10666.9716796875, Style Loss 649.074462890625, Hd Loss 13515.32080078125\n",
      "Epoch1, Batch 191/375, Rec Loss 10449.51953125, Style Loss 623.5114135742188, Hd Loss 11242.06005859375\n",
      "Epoch1, Batch 201/375, Rec Loss 10513.212890625, Style Loss 637.94140625, Hd Loss 10248.81689453125\n",
      "Epoch1, Batch 211/375, Rec Loss 10679.326171875, Style Loss 678.1856079101562, Hd Loss 10525.78515625\n",
      "Epoch1, Batch 221/375, Rec Loss 10670.828125, Style Loss 674.3882446289062, Hd Loss 7928.662109375\n",
      "Epoch1, Batch 231/375, Rec Loss 10009.88671875, Style Loss 550.3140258789062, Hd Loss 8242.44775390625\n",
      "Epoch1, Batch 241/375, Rec Loss 10364.443359375, Style Loss 606.1294555664062, Hd Loss 9072.24169921875\n",
      "Epoch1, Batch 251/375, Rec Loss 11132.568359375, Style Loss 732.5465698242188, Hd Loss 6529.207275390625\n",
      "Epoch1, Batch 261/375, Rec Loss 10307.9228515625, Style Loss 624.5609130859375, Hd Loss 5348.19384765625\n",
      "Epoch1, Batch 271/375, Rec Loss 10638.7490234375, Style Loss 634.89404296875, Hd Loss 5766.790771484375\n",
      "Epoch1, Batch 281/375, Rec Loss 10422.392578125, Style Loss 657.0726928710938, Hd Loss 4806.9224853515625\n",
      "Epoch1, Batch 291/375, Rec Loss 10495.265625, Style Loss 663.2880249023438, Hd Loss 4427.227294921875\n",
      "Epoch1, Batch 301/375, Rec Loss 10408.4345703125, Style Loss 635.1029052734375, Hd Loss 4749.63330078125\n",
      "Epoch1, Batch 311/375, Rec Loss 10250.0732421875, Style Loss 630.5288696289062, Hd Loss 4354.8216552734375\n",
      "Epoch1, Batch 321/375, Rec Loss 10136.154296875, Style Loss 620.0860595703125, Hd Loss 6304.322998046875\n",
      "Epoch1, Batch 331/375, Rec Loss 10410.16015625, Style Loss 688.0249633789062, Hd Loss 3737.4468994140625\n",
      "Epoch1, Batch 341/375, Rec Loss 10300.7177734375, Style Loss 647.59033203125, Hd Loss 4696.62841796875\n",
      "Epoch1, Batch 351/375, Rec Loss 10469.0009765625, Style Loss 656.7470703125, Hd Loss 4065.9718017578125\n",
      "Epoch1, Batch 361/375, Rec Loss 10439.3525390625, Style Loss 702.5189819335938, Hd Loss 4237.8397216796875\n",
      "Epoch1, Batch 371/375, Rec Loss 10458.5185546875, Style Loss 656.45703125, Hd Loss 4691.113525390625\n",
      "\n",
      "Epoch2, Batch 1/375, Rec Loss 10154.267578125, Style Loss 652.4879760742188, Hd Loss 4600.87451171875\n",
      "Epoch2, Batch 11/375, Rec Loss 10041.3544921875, Style Loss 604.3614501953125, Hd Loss 4447.184326171875\n",
      "Epoch2, Batch 21/375, Rec Loss 10347.83203125, Style Loss 668.5028076171875, Hd Loss 3776.2662353515625\n",
      "Epoch2, Batch 31/375, Rec Loss 10166.33203125, Style Loss 626.0835571289062, Hd Loss 4481.018798828125\n",
      "Epoch2, Batch 41/375, Rec Loss 10330.046875, Style Loss 660.5198974609375, Hd Loss 3341.3240966796875\n",
      "Epoch2, Batch 51/375, Rec Loss 10314.126953125, Style Loss 682.9419555664062, Hd Loss 3199.1583251953125\n",
      "Epoch2, Batch 61/375, Rec Loss 10180.2236328125, Style Loss 655.6284790039062, Hd Loss 4965.337158203125\n",
      "Epoch2, Batch 71/375, Rec Loss 10314.70703125, Style Loss 659.972900390625, Hd Loss 4329.2901611328125\n",
      "Epoch2, Batch 81/375, Rec Loss 10224.9326171875, Style Loss 629.2987060546875, Hd Loss 4043.28173828125\n",
      "Epoch2, Batch 91/375, Rec Loss 9949.76171875, Style Loss 614.2064819335938, Hd Loss 2715.6414794921875\n",
      "Epoch2, Batch 101/375, Rec Loss 10215.5283203125, Style Loss 673.6593017578125, Hd Loss 3301.8914794921875\n",
      "Epoch2, Batch 111/375, Rec Loss 10108.3984375, Style Loss 633.85888671875, Hd Loss 3143.293701171875\n",
      "Epoch2, Batch 121/375, Rec Loss 9956.0263671875, Style Loss 607.086181640625, Hd Loss 3457.9317626953125\n",
      "Epoch2, Batch 131/375, Rec Loss 10046.251953125, Style Loss 653.77880859375, Hd Loss 2738.73388671875\n",
      "Epoch2, Batch 141/375, Rec Loss 10217.3251953125, Style Loss 694.7286376953125, Hd Loss 2283.0362548828125\n",
      "Epoch2, Batch 151/375, Rec Loss 10087.330078125, Style Loss 640.9099731445312, Hd Loss 3787.2352294921875\n",
      "Epoch2, Batch 161/375, Rec Loss 9818.533203125, Style Loss 606.4234619140625, Hd Loss 3947.7401123046875\n",
      "Epoch2, Batch 171/375, Rec Loss 10256.7021484375, Style Loss 653.9456176757812, Hd Loss 7023.657470703125\n",
      "Epoch2, Batch 181/375, Rec Loss 10343.265625, Style Loss 640.3713989257812, Hd Loss 4050.2120361328125\n",
      "Epoch2, Batch 191/375, Rec Loss 9845.8623046875, Style Loss 617.6564331054688, Hd Loss 2314.79736328125\n",
      "Epoch2, Batch 201/375, Rec Loss 10015.71484375, Style Loss 637.4808959960938, Hd Loss 2573.1019287109375\n",
      "Epoch2, Batch 211/375, Rec Loss 10138.5458984375, Style Loss 671.814697265625, Hd Loss 1943.1544799804688\n",
      "Epoch2, Batch 221/375, Rec Loss 10141.279296875, Style Loss 670.1934204101562, Hd Loss 3179.7230224609375\n",
      "Epoch2, Batch 231/375, Rec Loss 9353.015625, Style Loss 542.6967163085938, Hd Loss 2108.7008666992188\n",
      "Epoch2, Batch 241/375, Rec Loss 9824.7080078125, Style Loss 599.47509765625, Hd Loss 2503.1078491210938\n"
     ]
    }
   ],
   "source": [
    "for e in range(args.epochs):\n",
    "    transformer.train()\n",
    "\n",
    "    for ib in range(num_batch):\n",
    "        optimizer.zero_grad()\n",
    "        \n",
    "        ind0, ind1 = ib * args.batch_size, min((ib+1) * args.batch_size, num_model)\n",
    "        \n",
    "        # Supervised step\n",
    "        m_rec_var = Variable(torch.from_numpy(m_rec[ind0:ind1, ...]).float()).to(device)\n",
    "        m_cond_var = Variable(torch.from_numpy(m_cond[ind0:ind1, ...]).float()).to(device)\n",
    "        m_cond_pred_var = transformer(m_rec_var)\n",
    "        rec_loss = args.rec_weight * mae_loss(m_cond_pred_var, m_cond_var)\n",
    "        \n",
    "        # Compute hard data loss\n",
    "        hd_loss1 = args.hd_weight * compute_hd_loss(m_cond_pred_var, well_hd_all)\n",
    "        \n",
    "        \n",
    "        # Unsupervised step\n",
    "        m_pca_var = Variable(torch.from_numpy(m_pca[ind0:ind1, ...]).float()).to(device)\n",
    "        m_pca_pred_var = transformer(m_pca_var).repeat(1, 3, 1, 1, 1)\n",
    "\n",
    "        m_cond_var_img = Variable(m_cond_var.data.clone().repeat(1, 3, 1, 1, 1))\n",
    "    \n",
    "        features_m_pca_pred = c3d(m_pca_pred_var)\n",
    "        features_m_cond = c3d(m_cond_var_img)\n",
    "\n",
    "        style_loss = 0.\n",
    "        for m in range(len(features_m_pca_pred)):\n",
    "            gram_m_cond = gram_matrix(features_m_cond[m])\n",
    "            gram_m_pca_pred = gram_matrix(features_m_pca_pred[m])\n",
    "            \n",
    "            style_loss += args.style_weight * mae_loss(gram_m_pca_pred, gram_m_cond)\n",
    "\n",
    "        # Compute hard data loss\n",
    "        hd_loss2 = args.hd_weight * compute_hd_loss(m_pca_pred_var, well_hd_all)\n",
    "\n",
    "        \n",
    "        total_loss = rec_loss + style_loss + hd_loss1 + hd_loss2\n",
    "        total_loss.backward()\n",
    "        optimizer.step()\n",
    "        #\n",
    "        if ib % args.log_interval == 0:\n",
    "            print('Epoch{}, Batch {}/{}, Rec Loss {}, Style Loss {}, Hd Loss {}'\n",
    "                  .format(e+1, ib+1, num_batch, rec_loss.item(), style_loss.item(), hd_loss1.item() + hd_loss2.item()))    \n",
    "    print('')\n",
    "    torch.save(transformer.state_dict(), args.save_model + '_sw%.1f_rw%.1f_hw%.1f_%dep.model' \n",
    "               % (args.style_weight, args.rec_weight, args.hd_weight, e))"
   ]
  },
  {
   "cell_type": "code",
   "execution_count": null,
   "metadata": {},
   "outputs": [],
   "source": [
    "exit()"
   ]
  }
 ],
 "metadata": {
  "kernelspec": {
   "display_name": "Python [conda env:pth-1.4]",
   "language": "python",
   "name": "conda-env-pth-1.4-py"
  },
  "language_info": {
   "codemirror_mode": {
    "name": "ipython",
    "version": 3
   },
   "file_extension": ".py",
   "mimetype": "text/x-python",
   "name": "python",
   "nbconvert_exporter": "python",
   "pygments_lexer": "ipython3",
   "version": "3.7.0"
  }
 },
 "nbformat": 4,
 "nbformat_minor": 4
}
